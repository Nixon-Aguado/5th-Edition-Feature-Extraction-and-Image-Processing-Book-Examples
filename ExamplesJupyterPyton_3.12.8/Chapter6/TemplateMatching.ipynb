{
 "cells": [
  {
   "cell_type": "markdown",
   "id": "2eb539e0",
   "metadata": {},
   "source": [
    "# Feature Extraction and Image Processing\n",
    "Mark S. Nixon & Alberto S. Aguado http://www.southampton.ac.uk/~msn/book/\n",
    "### Chapter 6: *TemplateMatching*\n",
    "Compute the matching of a template in an image\n",
    "***  "
   ]
  },
  {
   "cell_type": "markdown",
   "id": "64cdb2ed",
   "metadata": {},
   "source": [
    "### Setup modules"
   ]
  },
  {
   "cell_type": "code",
   "execution_count": 1,
   "id": "3e8ec376",
   "metadata": {},
   "outputs": [],
   "source": [
    "import os\n",
    "import sys\n",
    "sys.path.append(os.path.join(os.path.dirname(\"__file__\"), \"../../Modules\"))\n",
    "\n",
    "# Module functions\n",
    "from ImageUtilities import imageReadL, plotImageL, createImageF, plotImageF\n",
    "from PrintUtilities import printProgress\n",
    "from ImagePropertiesUtilities import imageMaxMin\n",
    "from PlotUtilities import plot3DHistogram \n",
    "\n",
    "# Iteration\n",
    "from timeit import itertools"
   ]
  },
  {
   "cell_type": "markdown",
   "id": "4489d1e9",
   "metadata": {},
   "source": [
    "### Parameters:\n",
    "    pathToDir = Input image directory\n",
    "    imageName = Input image name\n",
    "    templateName = Input template image name\n",
    "    thresholdVal = Only pixels in the template with value greater that this are used\n",
    "                   -1 to use all pixels or 0  to use edges with value >0"
   ]
  },
  {
   "cell_type": "code",
   "execution_count": 2,
   "id": "b85bf4f2",
   "metadata": {},
   "outputs": [],
   "source": [
    "pathToDir = os.path.join(os.path.dirname(\"__file__\"), \"../../Images/Chapter6/Input/\")\n",
    "imageName = \"Eye.png\"\n",
    "templateName = \"EyeTemplate.png\"\n",
    "thresholdVal = -1 "
   ]
  },
  {
   "cell_type": "markdown",
   "id": "a2c330f4",
   "metadata": {},
   "source": [
    "### # Read and show input and template images"
   ]
  },
  {
   "cell_type": "code",
   "execution_count": 4,
   "id": "0b8b8c4a",
   "metadata": {
    "scrolled": true
   },
   "outputs": [
    {
     "data": {
      "image/png": "[encoded data removed]",
      "text/plain": [
       "<Figure size 300x300 with 1 Axes>"
      ]
     },
     "metadata": {},
     "output_type": "display_data"
    }
   ],
   "source": [
    "inputImage, width, height = imageReadL(pathToDir + imageName)\n",
    "templateImage, widthTemplate, heightTemplate = imageReadL(pathToDir + templateName)\n",
    "\n",
    "plotImageL(inputImagee, figureSize = 3)\n",
    "plotImageL(templateImagee, figureSize = 3)"
   ]
  },
  {
   "cell_type": "markdown",
   "id": "8360d8b0-0607-46f3-b941-0f41a48e238c",
   "metadata": {},
   "source": [
    "### Template matching"
   ]
  },
  {
   "cell_type": "code",
   "execution_count": null,
   "id": "4058c9e6-9bbe-4900-a5d5-a77c824588ac",
   "metadata": {},
   "outputs": [],
   "source": [
    "# Create an accumulator. We look in a reduced size image\n",
    "accumulator = createImageF(width, height)\n",
    "  \n",
    "# Template matching\n",
    "templateCentreX = int((widthTemplate - 1) / 2)\n",
    "templateCentreY = int((heightTemplate - 1) / 2)\n",
    "for x in range(0, width):  \n",
    "    printProgress(x, width)\n",
    "    for y in range(0, height):\n",
    "        for wx,wy in itertools.product(range(0, widthTemplate), range(0, heightTemplate)):\n",
    "            posY = y + wy - templateCentreY\n",
    "            posX = x + wx - templateCentreX \n",
    "            \n",
    "            # The threshold is used to accumulate only the edge pixels in an edge template\n",
    "            # The difference of pixel values is inverted to show the best match as a peak\n",
    "            if posY > -1 and posY <  height and  posX > -1 and posX <  width and            \\\n",
    "               templateImage[wy,wx] > thresholdVal:\n",
    "                diff = 1.0 - abs(float(inputImage[posY,posX]) -                             \\\n",
    "                                 float(templateImage[wy, wx])) / 255.0\n",
    "                \n",
    "                accumulator[y,x] += diff*diff "
   ]
  },
  {
   "cell_type": "markdown",
   "id": "913b73d6-36a0-42e1-9000-0d130ecf0592",
   "metadata": {},
   "source": [
    "### Show accumulator within a maxima and mininma region"
   ]
  },
  {
   "cell_type": "code",
   "execution_count": null,
   "id": "4933ab37-96f3-4be3-b3e5-bea77506d372",
   "metadata": {},
   "outputs": [],
   "source": [
    "maxima, minima = imageMaxMin(accumulator)\n",
    "plotImageF(accumulator, figureSize = 3)\n",
    "plot3DHistogram(accumulator, [minima, maxima])"
   ]
  }
 ],
 "metadata": {
  "kernelspec": {
   "display_name": "Python 3 (ipykernel)",
   "language": "python",
   "name": "python3"
  },
  "language_info": {
   "codemirror_mode": {
    "name": "ipython",
    "version": 3
   },
   "file_extension": ".py",
   "mimetype": "text/x-python",
   "name": "python",
   "nbconvert_exporter": "python",
   "pygments_lexer": "ipython3",
   "version": "3.12.8"
  }
 },
 "nbformat": 4,
 "nbformat_minor": 5
}
