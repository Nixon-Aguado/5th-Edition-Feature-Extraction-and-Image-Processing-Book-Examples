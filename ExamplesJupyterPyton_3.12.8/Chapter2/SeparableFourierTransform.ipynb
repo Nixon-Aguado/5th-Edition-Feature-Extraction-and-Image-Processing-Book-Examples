{
 "cells": [
  {
   "cell_type": "markdown",
   "id": "2eb539e0",
   "metadata": {},
   "source": [
    "# Feature Extraction and Image Processing\n",
    "Mark S. Nixon & Alberto S. Aguado http://www.southampton.ac.uk/~msn/book/\n",
    "### Chapter 2: *SeparableFourierTransform*\n",
    "Compute the Fourier transform of an image using the separable formulation <br> Display the magnitude and phase and reconstruct image\n",
    "***  "
   ]
  },
  {
   "cell_type": "markdown",
   "id": "64cdb2ed",
   "metadata": {},
   "source": [
    "### Setup modules"
   ]
  },
  {
   "cell_type": "code",
   "execution_count": 1,
   "id": "3e8ec376",
   "metadata": {},
   "outputs": [],
   "source": [
    "import os\n",
    "import sys\n",
    "sys.path.append(os.path.join(os.path.dirname(\"__file__\"), \"../../Modules\"))\n",
    "\n",
    "from ImageUtilities import imageReadL, plotImageL, createImageF, plotImageF\n",
    "from ImageOperatorsUtilities import imageLogF\n",
    "from PrintUtilities import printProgress\n",
    "\n",
    "# Iteration and Math functions\n",
    "from math import sin, cos, pi, sqrt, atan2, log\n",
    "from timeit import itertools"
   ]
  },
  {
   "cell_type": "markdown",
   "id": "a2c330f4",
   "metadata": {},
   "source": [
    "### Read and show input image"
   ]
  },
  {
   "cell_type": "code",
   "execution_count": 2,
   "id": "0b8b8c4a",
   "metadata": {
    "scrolled": false
   },
   "outputs": [
    {
     "data": {
      "image/png": "iVBORw0KGgoAAAANSUhEUgAAAPoAAAD7CAYAAABDsImYAAAAOXRFWHRTb2Z0d2FyZQBNYXRwbG90bGliIHZlcnNpb24zLjcuMiwgaHR0cHM6Ly9tYXRwbG90bGliLm9yZy8pXeV/AAAACXBIWXMAAA9hAAAPYQGoP6dpAAAE2UlEQVR4nO3csU5baRRG0d8jBAhBCR0ST5eHypOljESHSyfEIEueMs2MSHEydmavVaPPDrlbt0Fnczwejwv4X/vr1F8A+P2EDgFChwChQ4DQIUDoECB0CBA6BAgdAi5O/QX+zyb/6PCc/4Bxs9mc5RY/eaNDgNAhQOgQIHQIEDoECB0ChA4BQocAoUOA0CFA6BAgdAgQOgQIHQKEDgFChwChQ4DQIeCPPyX1/v4+uvf6+jq2td/vx7YOh8PY1rSLi7nH6Pr6emzr5uZmbOvy8nJs6xS80SFA6BAgdAgQOgQIHQKEDgFChwChQ4DQIUDoECB0CBA6BAgdAoQOAUKHAKFDgNAhQOgQcJJTUm9vb2NbLy8vY1trrfX8/Dy2td1ux7Ymz1JNmzz/dH9/P7b1+Pg4tvXw8DC2tdZaV1dXo3sf8UaHAKFDgNAhQOgQIHQIEDoECB0ChA4BQocAoUOA0CFA6BAgdAgQOgQIHQKEDgFChwChQ4DQIeAkN+N+/PgxtjV5422ttT5//jy29fXr17Gt3W43tjXt7u5ubOvp6Wls69OnT2Nbk//GtdyMA34DoUOA0CFA6BAgdAgQOgQIHQKEDgFChwChQ4DQIUDoECB0CBA6BAgdAoQOAUKHAKFDwC+fkjoej2Mfut/vx7a22+3Y1lqz55++fPkytvXt27exrWm3t7en/gr/aPLZmHxm15rtabPZfPgz3ugQIHQIEDoECB0ChA4BQocAoUOA0CFA6BAgdAgQOgQIHQKEDgFChwChQ4DQIUDoECB0CDjJKanD4TC2NX3iZ7fbjW1Nnn/6/v372NY5m/z9Tz4bk8/sWk5JAb+B0CFA6BAgdAgQOgQIHQKEDgFChwChQ4DQIUDoECB0CBA6BAgdAoQOAUKHAKFDgNAhQOgQIHQIEDoECB0ChA4BQocAoUOA0CFA6BAgdAgQOgQIHQKEDgFChwChQ4DQIUDoECB0CBA6BAgdAi5+9Qc3m83ch1788sd+6Pr6emxrrbXu7u7Gtm5vb8e2ztnkv3Py9z/5bEw+s2vN9vQrvNEhQOgQIHQIEDoECB0ChA4BQocAoUOA0CFA6BAgdAgQOgQIHQKEDgFChwChQ4DQIUDoEHCSU1KTJ37u7+/HttZa6+npaXRvym63O/VX+FeT558mf/+Tz8b0yTKnpIBxQocAoUOA0CFA6BAgdAgQOgQIHQKEDgFChwChQ4DQIUDoECB0CBA6BAgdAoQOAUKHgM3xeDz+1x/69vY2tvXy8jK2tdZaz8/PY1vb7XZsa7/fj21NO9fTYI+Pj2NbDw8PY1trrXV1dTW69xFvdAgQOgQIHQKEDgFChwChQ4DQIUDoECB0CBA6BAgdAoQOAUKHAKFDgNAhQOgQIHQIEDoEnOSU1KT39/fRvdfX17GtyfNPh8NhbGvaxcXF2NbkWaqbm5uxrcvLy7GtU/BGhwChQ4DQIUDoECB0CBA6BAgdAoQOAUKHAKFDgNAhQOgQIHQIEDoECB0ChA4BQocAoUOA0CHgj78Zd84mf7Xn/N+02WzOcoufvNEhQOgQIHQIEDoECB0ChA4BQocAoUOA0CFA6BAgdAgQOgQIHQKEDgFChwChQ4DQIUDoEOCUFAR4o0OA0CFA6BAgdAgQOgQIHQKEDgFChwChQ8Df+OmiqbPvJ2sAAAAASUVORK5CYII=",
      "text/plain": [
       "<Figure size 300x300 with 1 Axes>"
      ]
     },
     "metadata": {},
     "output_type": "display_data"
    }
   ],
   "source": [
    "imageName = \"Square.png\"\n",
    "pathToDir = os.path.join(os.path.dirname(\"__file__\"), \"../../Images/Chapter2/Input/\")\n",
    "inputImage, width, height  = imageReadL(pathToDir + imageName)\n",
    "plotImageL(inputImage, figureSize = 3)"
   ]
  },
  {
   "cell_type": "markdown",
   "id": "25117530",
   "metadata": {},
   "source": [
    "### Create an image to store ferquency coefficients <br> Two floats to represent a complex number"
   ]
  },
  {
   "cell_type": "code",
   "execution_count": 3,
   "id": "0f8a15a4",
   "metadata": {},
   "outputs": [],
   "source": [
    "maxFreqW = int(width /2)\n",
    "maxFreqH = int(height/2)\n",
    "numCoeffW = 1 + 2 * maxFreqW\n",
    "numCoeffH = 1 + 2 * maxFreqH\n",
    "coeff = createImageF(numCoeffW ,numCoeffH , 2)"
   ]
  },
  {
   "cell_type": "markdown",
   "id": "642b878a",
   "metadata": {},
   "source": [
    "### Compute Fourier coefficients"
   ]
  },
  {
   "cell_type": "code",
   "execution_count": 4,
   "id": "f4e6a46e",
   "metadata": {},
   "outputs": [
    {
     "name": "stdout",
     "output_type": "stream",
     "text": [
      "0 / 13  .. 1 / 13  .. 2 / 13  .. 3 / 13  .. 4 / 13  .. 5 / 13  .. 6 / 13  .. 7 / 13  .. 8 / 13  .. 9 / 13  .. 10 / 13  .. 11 / 13  .. 12 / 13  .. 0 / 13  .. 1 / 13  .. 2 / 13  .. 3 / 13  .. 4 / 13  .. 5 / 13  .. 6 / 13  .. 7 / 13  .. 8 / 13  .. 9 / 13  .. 10 / 13  .. 11 / 13  .. 12 / 13  .. "
     ]
    }
   ],
   "source": [
    "# Adjust the size of the data to be even\n",
    "m = float(width)\n",
    "n = float(height)\n",
    "if width % 2 == 0:\n",
    "    m = width + 1.0\n",
    "if height % 2 == 0:\n",
    "    n = height + 1.0  \n",
    "    \n",
    "# Fundamental frequency\n",
    "ww = (2.0 * pi) / m\n",
    "wh = (2.0 * pi) / n\n",
    "\n",
    "# Fourier Transform\n",
    "for u in range(-maxFreqW, maxFreqW + 1):\n",
    "    printProgress(u + maxFreqW, numCoeffW)\n",
    "    entryW = u + maxFreqW \n",
    "    \n",
    "    for v in range(-maxFreqH, maxFreqH + 1):\n",
    "        entryH = v + maxFreqH\n",
    "        coeff[entryH, entryW] = [0, 0]\n",
    "        \n",
    "        for x in range(0, width):\n",
    "            sumY = [0, 0] \n",
    "            \n",
    "            for y in range(0, height):\n",
    "                sumY[0] += inputImage[y,x] * cos(y * wh * v)\n",
    "                sumY[1] += inputImage[y,x] * sin(y * wh * v)\n",
    "            coeff[entryH, entryW][0] += sumY[0] * cos(x * ww * u) - sumY[1] * sin(x * ww * u)\n",
    "            coeff[entryH, entryW][1] -= cos(x * ww * u) * sumY[1] + sin(x * ww * u) * sumY[0]\n",
    "
    "        coeff[entryH, entryW][0] /= m*n \n",
    "        coeff[entryH, entryW][1] /= m*n \n",
   ]
  },
  {
   "cell_type": "markdown",
   "id": "5f171ca6",
   "metadata": {},
   "source": [
    "### Compute power"
   ]
  },
  {
   "cell_type": "code",
   "execution_count": 5,
   "id": "128af976",
   "metadata": {},
   "outputs": [],
   "source": [
    "power = createImageF( 1 + 2 * maxFreqW, 1 + 2 * maxFreqH)\n",
    "for kw,kh in itertools.product(range(-maxFreqW, maxFreqW + 1), range(-maxFreqH, maxFreqH + 1)):                  \n",
    "    entryW = kw + maxFreqW \n",
    "    entryH = kh + maxFreqH \n",
    "    power[entryH, entryW] = sqrt(coeff[entryH, entryW][0] * coeff[entryH, entryW][0] +              \\\n",
    "                                 coeff[entryH, entryW][1] * coeff[entryH, entryW][1])\n",
    "                 \n",
    "    power[entryH, entryW] = log(1.0 + power[entryH, entryW])"
   ]
  },
  {
   "cell_type": "markdown",
   "id": "92e22e9a",
   "metadata": {},
   "source": [
    "### Copute phase"
   ]
  },
  {
   "cell_type": "code",
   "execution_count": 6,
   "id": "eb6d35ab",
   "metadata": {},
   "outputs": [],
   "source": [
    "phase = createImageF( 1 + 2 * maxFreqW, 1 + 2 * maxFreqH)\n",
    "for kw,kh in itertools.product(range(-maxFreqW, maxFreqW + 1), range(-maxFreqH, maxFreqH + 1)):\n",
    "    indexInArrayW = kw + maxFreqW \n",
    "    indexInArrayH = kh + maxFreqH \n",
    "    phase[indexInArrayH, indexInArrayW] = atan2(coeff[indexInArrayH, indexInArrayW][1],             \\\n",
    "                                                coeff[indexInArrayH, indexInArrayW][0])\n"
   ]
  },
  {
   "cell_type": "markdown",
   "id": "1a6d39c2",
   "metadata": {},
   "source": [
    "### Show the log of the power and phase"
   ]
  },
  {
   "cell_type": "code",
   "execution_count": 7,
   "id": "5d477d93",
   "metadata": {},
   "outputs": [
    {
     "data": {
      "image/png": "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",
      "text/plain": [
       "<Figure size 300x300 with 1 Axes>"
      ]
     },
     "metadata": {},
     "output_type": "display_data"
    },
    {
     "data": {
      "image/png": "iVBORw0KGgoAAAANSUhEUgAAAPoAAAD7CAYAAABDsImYAAAAOXRFWHRTb2Z0d2FyZQBNYXRwbG90bGliIHZlcnNpb24zLjcuMiwgaHR0cHM6Ly9tYXRwbG90bGliLm9yZy8pXeV/AAAACXBIWXMAAA9hAAAPYQGoP6dpAAAEcklEQVR4nO3csU0kQRBA0eZEBmCTAxli4+6SIEHgzkVwYiT67krz37NXtT0MX21tPRzHcSzg0n797wMAf5/QIUDoECB0CBA6BAgdAoQOAUKHAKFDwOPZD97v9y1f+PT0tGXO8/Pzj2dMOsvOOTve1RXf9645057p7e3t28+40SFA6BAgdAgQOgQIHQKEDgFChwChQ4DQIUDoECB0CBA6BAgdAoQOAUKHAKFDgNAh4PSGmWlbNXacZ9LWkp1zbrfbj2dMe9/+b37GjQ4BQocAoUOA0CFA6BAgdAgQOgQIHQKEDgFChwChQ4DQIUDoECB0CBA6BAgdAoQOAac3zEza8LHWnvNM2xQyac6ks6x1zf+bXc90hhsdAoQOAUKHAKFDgNAhQOgQIHQIEDoECB0ChA4BQocAoUOA0CFA6BAgdAgQOgScXjwx6Yf/u+ZMOsta+/7GO+ZMe6ZJ72raM53hRocAoUOA0CFA6BAgdAgQOgQIHQKEDgFChwChQ4DQIUDoECB0CBA6BAgdAoQOAUKHgNMbZiZt+Ng1xxaVP7viM611ze07Z7jRIUDoECB0CBA6BAgdAoQOAUKHAKFDgNAhQOgQIHQIEDoECB0ChA4BQocAoUOA0CEgvWFm2haV2+22Zc79fh8xY+ecSe9q0lnOcqNDgNAhQOgQIHQIEDoECB0ChA4BQocAoUOA0CFA6BAgdAgQOgQIHQKEDgFChwChQ8DDcRzHmQ++v79v+cJJ2zkmnWWtfdtYdpxn2jNNeleTzrLWuTbd6BAgdAgQOgQIHQKEDgFChwChQ4DQIUDoECB0CBA6BAgdAoQOAUKHAKFDgNAh4PTiiZeXly1fOOlH+7t++L/rmT4+PrbMud1uP56xa2HEjrOsdc3/m11zvr6+vv2MGx0ChA4BQocAoUOA0CFA6BAgdAgQOgQIHQKEDgFChwChQ4DQIUDoECB0CBA6BAgdAk5vmHl9fd3yhZO2c0zaWrJzzo7tMFfcDLNrzqSzrLXW5+fnt59xo0OA0CFA6BAgdAgQOgQIHQKEDgFChwChQ4DQIUDoECB0CBA6BAgdAoQOAUKHAKFDwOPZD07bqrFjc8kVn2nXnCtuhtk1Z9r7PsONDgFChwChQ4DQIUDoECB0CBA6BAgdAoQOAUKHAKFDgNAhQOgQIHQIEDoECB0ChA4B/3zDzKTNJVd8pl1zJp1l2pxp7/sMNzoECB0ChA4BQocAoUOA0CFA6BAgdAgQOgQIHQKEDgFChwChQ4DQIUDoECB0CDi9eGLaj+2vuEBg13l2zJn0nnbOueLf5gw3OgQIHQKEDgFChwChQ4DQIUDoECB0CBA6BAgdAoQOAUKHAKFDgNAhQOgQIHQIEDoEnN4wM22rxqRNIdM21eyYM+ksa836G097pjPc6BAgdAgQOgQIHQKEDgFChwChQ4DQIUDoECB0CBA6BAgdAoQOAUKHAKFDgNAhQOgQ8HAcx/G/DwH8XW50CBA6BAgdAoQOAUKHAKFDgNAhQOgQIHQI+A3mHV9s1sctEQAAAABJRU5ErkJggg==",
      "text/plain": [
       "<Figure size 300x300 with 1 Axes>"
      ]
     },
     "metadata": {},
     "output_type": "display_data"
    }
   ],
   "source": [
    "powerLog = imageLogF(power)\n",
    "plotImageF(powerLog, figureSize = 3)\n",
    "plotImageF(phase, figureSize = 3)"
   ]
  },
  {
   "cell_type": "markdown",
   "id": "562047af",
   "metadata": {},
   "source": [
    "### Reconstruct image from Fourier coefficients"
   ]
  },
  {
   "cell_type": "code",
   "execution_count": 8,
   "id": "b11de882",
   "metadata": {},
   "outputs": [
    {
     "name": "stdout",
     "output_type": "stream",
     "text": [
      "0 / 13  .. 1 / 13  .. 2 / 13  .. 3 / 13  .. 4 / 13  .. 5 / 13  .. 6 / 13  .. 7 / 13  .. 8 / 13  .. 9 / 13  .. 10 / 13  .. 11 / 13  .. 12 / 13  .. "
     ]
    }
   ],
   "source": [
    "reconstruction = createImageF(width, height)\n",
    "for u in range(-maxFreqW, maxFreqW + 1):\n",
    "    printProgress(u + maxFreqW, numCoeffW)\n",
    "    entryW = u + maxFreqW \n",
    "    for v in range(-maxFreqH, maxFreqH + 1):\n",
    "        entryH = v + maxFreqH \n",
    "        for x in range(0, width):\n",
    "            for y in range(0, height):\n",
    "                 \n",
    "                reconstruction[y,x] += (coeff[entryH, entryW][0] / (m*n)) * (cos(x * ww * u) * cos(y * wh * v) - sin(x * ww * u) * sin(y * wh * v)) - \\\n",
    "                                       (coeff[entryH, entryW][1] / (m*n)) * (cos(x * ww * u) * sin(y * wh * v) + sin(x * ww * u) * cos(y * wh * v))   \n",
    "\n"
   ]
  },
  {
   "cell_type": "markdown",
   "id": "1ab8f037",
   "metadata": {},
   "source": [
    "### Show recustructed image"
   ]
  },
  {
   "cell_type": "code",
   "execution_count": 9,
   "id": "0f43c80f",
   "metadata": {},
   "outputs": [
    {
     "data": {
      "image/png": "iVBORw0KGgoAAAANSUhEUgAAAPoAAAD7CAYAAABDsImYAAAAOXRFWHRTb2Z0d2FyZQBNYXRwbG90bGliIHZlcnNpb24zLjcuMiwgaHR0cHM6Ly9tYXRwbG90bGliLm9yZy8pXeV/AAAACXBIWXMAAA9hAAAPYQGoP6dpAAAE/klEQVR4nO3cTWobWRiG0at2Y8vGHhk8NF5clpWFZRg8NGjkxH8g1BvoptXwBTn9nDMuXklFPdRE3M3hcDgs4H/tj1N/AeDXEzoECB0ChA4BQocAoUOA0CFA6BAgdAj489gL/YHuv5u8Z5/5/m82m//91u9+/73RIUDoECB0CBA6BAgdAoQOAUKHAKFDgNAhQOgQIHQIEDoECB0ChA4BQocAoUOA0CFA6BBw9FFSn9XHx8fo3svLy9jW29vb2NZ+vx/bmnZ2dja2td1ux7aurq7Gts7Pz8e2TsEbHQKEDgFChwChQ4DQIUDoECB0CBA6BAgdAoQOAUKHAKFDgNAhQOgQIHQIEDoECB0ChA4BJzlK6v39fWzr6elpbGuttR4fH8e2drvd2Nbr6+vY1rTLy8uxrdvb27Gt+/v7sa27u7uxrbXWuri4GN37N97oECB0CBA6BAgdAoQOAUKHAKFDgNAhQOgQIHQIEDoECB0ChA4BQocAoUOA0CFA6BAgdAgQOgSc5My4yfPPJs94W2utr1+/jm19//59bOv5+Xlsa9rNzc3Y1sPDw9jWly9fxrYmf+NazowDfgGhQ4DQIUDoECB0CBA6BAgdAoQOAUKHAKFDgNAhQOgQIHQIEDoECB0ChA4BQocAoUPA0UdJHQ6HsQ99e3sb29rtdmNba80e//Tt27exrR8/foxtTbu+vj71V/hbk8/G5DO71mxPm83mX6/xRocAoUOA0CFA6BAgdAgQOgQIHQKEDgFChwChQ4DQIUDoECB0CBA6BAgdAoQOAUKHAKFDwEmOktrv92Nbr6+vY1trrfX8/Dy2NXn808+fP8e2PrPJ+z/5bEw+s2vN9nQMb3QIEDoECB0ChA4BQocAoUOA0CFA6BAgdAgQOgQIHQKEDgFChwChQ4DQIUDoECB0CBA6BAgdAoQOAUKHAKFDgNAhQOgQIHQIEDoECB0ChA4BQocAoUOA0CFA6BAgdAgQOgQIHQKEDgFChwChQ8Cfx1642WzGPvTs7Gxs6/LycmxrrbVubm7Gtq6vr8e2PrPJ3zl5/yefjclndq3Zno7hjQ4BQocAoUOA0CFA6BAgdAgQOgQIHQKEDgFChwChQ4DQIUDoECB0CBA6BAgdAoQOAUKHgJMcJbXdbse2bm9vx7bWWuvh4WF0b8rz8/Opv8I/mjz+afL+Tz4bk8/sWo6SAn4BoUOA0CFA6BAgdAgQOgQIHQKEDgFChwChQ4DQIUDoECB0CBA6BAgdAoQOAUKHAKFDwOZwOByOufDIy47y/v4+tvX09DS2tdZaj4+PY1u73W5s6/X1dWxr2uXl5djW5PFP9/f3Y1t3d3djW2utdXFxMbZ1zLFU3ugQIHQIEDoECB0ChA4BQocAoUOA0CFA6BAgdAgQOgQIHQKEDgFChwChQ4DQIUDoECB0CDjJUVKTPj4+RvdeXl7Gtt7e3sa29vv92Na0s7Ozsa3tdju2dXV1NbZ1fn4+tjXNUVLAWkvokCB0CBA6BAgdAoQOAUKHAKFDgNAhQOgQIHQIEDoECB0ChA4BQocAoUOA0CFA6BAgdAj47c+M+8wm79lnvv/HnFl2iq0KZ8YBay2hQ4LQIUDoECB0CBA6BAgdAoQOAUKHAKFDgNAhQOgQIHQIEDoECB0ChA4BQocAoUPA0UdJAb8vb3QIEDoECB0ChA4BQocAoUOA0CFA6BAgdAj4C/TtsaNA+Jl/AAAAAElFTkSuQmCC",
      "text/plain": [
       "<Figure size 300x300 with 1 Axes>"
      ]
     },
     "metadata": {},
     "output_type": "display_data"
    }
   ],
   "source": [
    "plotImageF(reconstruction, figureSize = 3)"
   ]
  }
 ],
 "metadata": {
  "kernelspec": {
   "display_name": "Python 3 (ipykernel)",
   "language": "python",
   "name": "python3"
  },
  "language_info": {
   "codemirror_mode": {
    "name": "ipython",
    "version": 3
   },
   "file_extension": ".py",
   "mimetype": "text/x-python",
   "name": "python",
   "nbconvert_exporter": "python",
   "pygments_lexer": "ipython3",
   "version": "3.11.4"
  }
 },
 "nbformat": 4,
 "nbformat_minor": 5
}
