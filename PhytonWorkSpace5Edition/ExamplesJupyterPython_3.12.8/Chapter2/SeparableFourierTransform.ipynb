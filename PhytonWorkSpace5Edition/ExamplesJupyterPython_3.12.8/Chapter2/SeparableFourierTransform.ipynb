{
 "cells": [
  {
   "cell_type": "markdown",
   "id": "2eb539e0",
   "metadata": {},
   "source": [
    "# Feature Extraction and Image Processing\n",
    "Mark S. Nixon & Alberto S. Aguado http://www.southampton.ac.uk/~msn/book/\n",
    "### Chapter 2: *SeparableFourierTransform*\n",
    "Compute the Fourier transform of an image using the separable formulation <br> Display the magnitude and phase and reconstruct image\n",
    "***  "
   ]
  },
  {
   "cell_type": "markdown",
   "id": "64cdb2ed",
   "metadata": {},
   "source": [
    "### Setup modules"
   ]
  },
  {
   "cell_type": "code",
   "execution_count": 6,
   "id": "3e8ec376",
   "metadata": {},
   "outputs": [],
   "source": [
    "import os\n",
    "import sys\n",
    "sys.path.append(os.path.join(os.path.dirname(\"__file__\"), \"../../Modules\"))\n",
    "\n",
    "from ImageUtilities import imageReadL, plotImageL, createImageF, plotImageF\n",
    "from ImageOperatorsUtilities import imageLogF\n",
    "from PrintUtilities import printProgress\n",
    "\n",
    "# Iteration and Math functions\n",
    "from math import sin, cos, pi, sqrt, atan2, log\n",
    "from timeit import itertools"
   ]
  },
  {
   "cell_type": "markdown",
   "id": "a2c330f4",
   "metadata": {},
   "source": [
    "### Read and show input image"
   ]
  },
  {
   "cell_type": "code",
   "execution_count": 7,
   "id": "0b8b8c4a",
   "metadata": {},
   "outputs": [
    {
     "data": {
      "image/png": "[encoded data removed]",
      "text/plain": [
       "<Figure size 300x300 with 1 Axes>"
      ]
     },
     "metadata": {},
     "output_type": "display_data"
    }
   ],
   "source": [
    "imageName = \"Square.png\"\n",
    "pathToDir = os.path.join(os.path.dirname(\"__file__\"), \"../../Images/Chapter2/Input/\")\n",
    "inputImage, width, height  = imageReadL(pathToDir + imageName)\n",
    "plotImageL(inputImage, figureSize = 3)"
   ]
  },
  {
   "cell_type": "markdown",
   "id": "25117530",
   "metadata": {},
   "source": [
    "### Create an image to store ferquency coefficients <br> Two floats to represent a complex number"
   ]
  },
  {
   "cell_type": "code",
   "execution_count": 8,
   "id": "0f8a15a4",
   "metadata": {},
   "outputs": [],
   "source": [
    "maxFreqW = int(width /2)\n",
    "maxFreqH = int(height/2)\n",
    "numCoeffW = 1 + 2 * maxFreqW\n",
    "numCoeffH = 1 + 2 * maxFreqH\n",
    "coeff = createImageF(numCoeffW ,numCoeffH , 2)"
   ]
  },
  {
   "cell_type": "markdown",
   "id": "642b878a",
   "metadata": {},
   "source": [
    "### Compute Fourier coefficients"
   ]
  },
  {
   "cell_type": "code",
   "execution_count": 16,
   "id": "f4e6a46e",
   "metadata": {},
   "outputs": [
    {
     "name": "stdout",
     "output_type": "stream",
     "text": [
      "0 / 13  .. 1 / 13  .. 2 / 13  .. 3 / 13  .. 4 / 13  .. 5 / 13  .. 6 / 13  .. 7 / 13  .. 8 / 13  .. 9 / 13  .. 10 / 13  .. 11 / 13  .. 12 / 13  .. "
     ]
    }
   ],
   "source": [
    "# Adjust the size of the data to be even\n",
    "m = float(width)\n",
    "n = float(height)\n",
    "if width % 2 == 0:\n",
    "    m = width + 1.0\n",
    "if height % 2 == 0:\n",
    "    n = height + 1.0  \n",
    "    \n",
    "# Fundamental frequency\n",
    "ww = (2.0 * pi) / m\n",
    "wh = (2.0 * pi) / n\n",
    "\n",
    "# Fourier Transform\n",
    "for u in range(-maxFreqW, maxFreqW + 1):\n",
    "    printProgress(u + maxFreqW, numCoeffW)\n",
    "    entryW = u + maxFreqW \n",
    "    \n",
    "    for v in range(-maxFreqH, maxFreqH + 1):\n",
    "        entryH = v + maxFreqH\n",
    "        coeff[entryH, entryW] = [0, 0]\n",
    "        \n",
    "        for x in range(0, width):\n",
    "            sumY = [0, 0] \n",
    "            \n",
    "            for y in range(0, height):\n",
    "                sumY[0] += inputImage[y,x] * cos(y * wh * v)\n",
    "                sumY[1] += inputImage[y,x] * sin(y * wh * v)\n",
    "            coeff[entryH, entryW][0] += sumY[0] * cos(x * ww * u) - sumY[1] * sin(x * ww * u)\n",
    "            coeff[entryH, entryW][1] -= cos(x * ww * u) * sumY[1] + sin(x * ww * u) * sumY[0]\n",
    "\n",
    "        coeff[entryH, entryW][0] /= m*n \n",
    "        coeff[entryH, entryW][1] /= m*n"
   ]
  },
  {
   "cell_type": "markdown",
   "id": "5f171ca6",
   "metadata": {},
   "source": [
    "### Compute power"
   ]
  },
  {
   "cell_type": "code",
   "execution_count": 17,
   "id": "128af976",
   "metadata": {},
   "outputs": [],
   "source": [
    "power = createImageF( 1 + 2 * maxFreqW, 1 + 2 * maxFreqH)\n",
    "for kw,kh in itertools.product(range(-maxFreqW, maxFreqW + 1), range(-maxFreqH, maxFreqH + 1)):                  \n",
    "    entryW = kw + maxFreqW \n",
    "    entryH = kh + maxFreqH \n",
    "    power[entryH, entryW] = sqrt(coeff[entryH, entryW][0] * coeff[entryH, entryW][0] +              \\\n",
    "                                 coeff[entryH, entryW][1] * coeff[entryH, entryW][1])\n",
    "                 \n",
    "    power[entryH, entryW] = log(1.0 + power[entryH, entryW])"
   ]
  },
  {
   "cell_type": "markdown",
   "id": "92e22e9a",
   "metadata": {},
   "source": [
    "### Copute phase"
   ]
  },
  {
   "cell_type": "code",
   "execution_count": 18,
   "id": "eb6d35ab",
   "metadata": {},
   "outputs": [],
   "source": [
    "phase = createImageF( 1 + 2 * maxFreqW, 1 + 2 * maxFreqH)\n",
    "for kw,kh in itertools.product(range(-maxFreqW, maxFreqW + 1), range(-maxFreqH, maxFreqH + 1)):\n",
    "    indexInArrayW = kw + maxFreqW \n",
    "    indexInArrayH = kh + maxFreqH \n",
    "    phase[indexInArrayH, indexInArrayW] = atan2(coeff[indexInArrayH, indexInArrayW][1],             \\\n",
    "                                                coeff[indexInArrayH, indexInArrayW][0])\n"
   ]
  },
  {
   "cell_type": "markdown",
   "id": "1a6d39c2",
   "metadata": {},
   "source": [
    "### Show the log of the power and phase"
   ]
  },
  {
   "cell_type": "code",
   "execution_count": 19,
   "id": "5d477d93",
   "metadata": {},
   "outputs": [
    {
     "data": {
      "image/png": "[encoded data removed]",
      "text/plain": [
       "<Figure size 300x300 with 1 Axes>"
      ]
     },
     "metadata": {},
     "output_type": "display_data"
    },
    {
     "data": {
      "image/png": "[encoded data removed]",
      "text/plain": [
       "<Figure size 300x300 with 1 Axes>"
      ]
     },
     "metadata": {},
     "output_type": "display_data"
    }
   ],
   "source": [
    "powerLog = imageLogF(power)\n",
    "plotImageF(powerLog, figureSize = 3)\n",
    "plotImageF(phase, figureSize = 3)"
   ]
  },
  {
   "cell_type": "markdown",
   "id": "562047af",
   "metadata": {},
   "source": [
    "### Reconstruct image from Fourier coefficients"
   ]
  },
  {
   "cell_type": "code",
   "execution_count": 20,
   "id": "b11de882",
   "metadata": {},
   "outputs": [
    {
     "name": "stdout",
     "output_type": "stream",
     "text": [
      "0 / 13  .. 1 / 13  .. 2 / 13  .. 3 / 13  .. 4 / 13  .. 5 / 13  .. 6 / 13  .. 7 / 13  .. 8 / 13  .. 9 / 13  .. 10 / 13  .. 11 / 13  .. 12 / 13  .. "
     ]
    }
   ],
   "source": [
    "reconstruction = createImageF(width, height)\n",
    "for u in range(-maxFreqW, maxFreqW + 1):\n",
    "    printProgress(u + maxFreqW, numCoeffW)\n",
    "    entryW = u + maxFreqW \n",
    "    for v in range(-maxFreqH, maxFreqH + 1):\n",
    "        entryH = v + maxFreqH \n",
    "        for x in range(0, width):\n",
    "            for y in range(0, height):\n",
    "                 \n",
    "                reconstruction[y,x] += (coeff[entryH, entryW][0] / (m*n)) * (cos(x * ww * u) * cos(y * wh * v) - sin(x * ww * u) * sin(y * wh * v)) - \\\n",
    "                                       (coeff[entryH, entryW][1] / (m*n)) * (cos(x * ww * u) * sin(y * wh * v) + sin(x * ww * u) * cos(y * wh * v))   \n",
    "\n"
   ]
  },
  {
   "cell_type": "markdown",
   "id": "1ab8f037",
   "metadata": {},
   "source": [
    "### Show recustructed image"
   ]
  },
  {
   "cell_type": "code",
   "execution_count": 21,
   "id": "0f43c80f",
   "metadata": {},
   "outputs": [
    {
     "data": {
      "image/png": "[encoded data removed]",
      "text/plain": [
       "<Figure size 300x300 with 1 Axes>"
      ]
     },
     "metadata": {},
     "output_type": "display_data"
    }
   ],
   "source": [
    "plotImageF(reconstruction, figureSize = 3)"
   ]
  },
  {
   "cell_type": "code",
   "execution_count": null,
   "id": "ee7f5851-8800-41cc-8555-8a3cb7f1d182",
   "metadata": {},
   "outputs": [],
   "source": []
  }
 ],
 "metadata": {
  "kernelspec": {
   "display_name": "Python 3 (ipykernel)",
   "language": "python",
   "name": "python3"
  },
  "language_info": {
   "codemirror_mode": {
    "name": "ipython",
    "version": 3
   },
   "file_extension": ".py",
   "mimetype": "text/x-python",
   "name": "python",
   "nbconvert_exporter": "python",
   "pygments_lexer": "ipython3",
   "version": "3.12.10"
  }
 },
 "nbformat": 4,
 "nbformat_minor": 5
}
