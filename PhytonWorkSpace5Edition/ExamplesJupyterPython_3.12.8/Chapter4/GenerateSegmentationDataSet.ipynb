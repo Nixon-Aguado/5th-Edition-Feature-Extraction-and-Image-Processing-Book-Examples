{
 "cells": [
  {
   "cell_type": "markdown",
   "id": "0cf76808-ea06-4106-b03f-8dcded2d7077",
   "metadata": {},
   "source": [
    "# Feature Extraction and Image Processing\n",
    "Mark S. Nixon & Alberto S. Aguado http://www.southampton.ac.uk/~msn/book/\n",
    "### Chapter 4: *GenerateSegmentationDataSet*\n",
    "Generate an image set for image segmentation\n",
    "***  "
   ]
  },
  {
   "cell_type": "markdown",
   "id": "64cdb2ed",
   "metadata": {},
   "source": [
    "### Setup modules"
   ]
  },
  {
   "cell_type": "code",
   "execution_count": 1,
   "id": "3e8ec376",
   "metadata": {},
   "outputs": [],
   "source": [
    "import os\n",
    "import sys\n",
    "sys.path.append(os.path.join(os.path.dirname(\"__file__\"), \"../../Modules\"))\n",
    "\n",
    "# Module functions\n",
    "from ImageUtilities import plotImageL, plotImageF\n",
    "\n",
    "# Generate sysntetic data functions\n",
    "from SyntheticImagesUtilities import createLineImagesAndMasks,  createCurveImagesAndMasks, createCircleImagesAndMasks\n",
    "\n",
    "# In tensor flow images are numpy arrays\n",
    "import numpy as np\n",
    "\n",
    "# For save data\n",
    "import pickle\n",
    "\n",
    "# Iteration and Maths\n",
    "from random import randint,uniform"
   ]
  },
  {
   "cell_type": "markdown",
   "id": "bd003a89-5368-4733-a453-1851cf6b47bc",
   "metadata": {},
   "source": [
    "### Parameters:\n",
    "    pathToDir = Directory to store data\n",
    "    imageSize = Image size\n",
    "    noiseKernelSize = Size of noise filter\n",
    "    \n",
    "    lineLengthMin, lineLengthMax = Size of line shape\n",
    "    curveLengthMin, curveLengthMax = Size of curve shape\n",
    "    radiousMin, radiousMax = Size of circle shape\n",
    "\n",
    "    numTrainImages = Number of train images per shape in the training set\n",
    "    numTestImages = Number of test images per shape in the test set\n",
    "\n",
    "    dataSetFileName = Name of the data file"
   ]
  },
  {
   "cell_type": "code",
   "execution_count": 2,
   "id": "313d09a8-7ca7-4657-946c-d4033f18a406",
   "metadata": {},
   "outputs": [],
   "source": [
    "pathToDir = os.path.join(os.path.dirname(\"__file__\"), \"../../Images/Chapter4/Input/\")\n",
    "\n",
    "imageSize = 32\n",
    "noiseKernelSize = 3\n",
    "\n",
    "lineLengthMin = 19\n",
    "lineLengthMax = 24\n",
    "\n",
    "curveLengthMin = 18\n",
    "curveLengthMax = 24\n",
    "\n",
    "radiousMin = 7\n",
    "radiousMax = 10\n",
    "\n",
    "numTrainImages = 400\n",
    "numTestImages = 40\n",
    "dataSetFileName = \"ShapesSegmentationData.pickle\""
   ]
  },
  {
   "cell_type": "markdown",
   "id": "2f537a88-af84-41f5-9097-83ad654640b3",
   "metadata": {},
   "source": [
    "### Suffle images function"
   ]
  },
  {
   "cell_type": "code",
   "execution_count": 3,
   "id": "5962ecce-714c-4fa5-a07f-e1b5efe2f2a9",
   "metadata": {},
   "outputs": [],
   "source": [
    "def SuffleImages(trainImagesSet):\n",
    "    images = []\n",
    "    masks = []\n",
    "    \n",
    "    while len(trainImagesSet) != 0:\n",
    "        selectClass = randint(0, len(trainImagesSet)-1)\n",
    "        \n",
    "        image = trainImagesSet[selectClass][0].pop(0)\n",
    "        mask = trainImagesSet[selectClass][1].pop(0)\n",
    "        \n",
    "        images.append(image)\n",
    "        masks.append(mask)\n",
    "        \n",
    "        if len(trainImagesSet[selectClass][0]) == 0:\n",
    "            trainImagesSet.pop(selectClass)\n",
    "            \n",
    "    return images, masks"
   ]
  },
  {
   "cell_type": "markdown",
   "id": "a5bf4ef1-0fed-441f-83c5-4d86221a58ae",
   "metadata": {},
   "source": [
    "### Create and save dataset"
   ]
  },
  {
   "cell_type": "code",
   "execution_count": 4,
   "id": "2486ec2e-6c7b-4267-be00-b1373731b147",
   "metadata": {},
   "outputs": [],
   "source": [
    "trainLineImages, testLineImages, trainLineMasks, testLineMasks = createLineImagesAndMasks(numTrainImages, numTestImages, lineLengthMin, lineLengthMax, imageSize, noiseKernelSize)\n",
    "trainCurveImages, testCurveImages, trainCurveMasks, testCurveMasks  = createCurveImagesAndMasks(numTrainImages, numTestImages, curveLengthMin, curveLengthMax, imageSize, noiseKernelSize)\n",
    "trainCircleImages, testCircleImages, trainCircleMasks, testCircleMasks  = createCircleImagesAndMasks(numTrainImages, numTestImages, radiousMin, radiousMax, imageSize, noiseKernelSize)\n",
    "\n",
    "# Suffle\n",
    "trainImages = []\n",
    "trainMasks = []\n",
    "testImages = []\n",
    "testMasks = []\n",
    "\n",
    "trainImages, trainMasks=  SuffleImages([(trainLineImages, trainLineMasks), (trainCurveImages, trainCurveMasks), (trainCircleImages, trainCircleMasks)])\n",
    "testImages, testMasks=  SuffleImages([(testLineImages, testLineMasks), (testCurveImages, testCurveMasks), (testCircleImages, testCircleMasks)])\n",
    "\n",
    "# Save\n",
    "data = (np.array(trainImages), np.array(trainMasks), np.array(testImages), np.array(testMasks))\n",
    "with open(pathToDir+dataSetFileName, 'wb') as f:\n",
    "    pickle.dump(data, f)"
   ]
  },
  {
   "cell_type": "markdown",
   "id": "f721ec1f-4871-4918-b673-393a6ee6aac7",
   "metadata": {},
   "source": [
    "### Load and show images"
   ]
  },
  {
   "cell_type": "code",
   "execution_count": 5,
   "id": "57f3e5e5-1eec-4c4d-8553-e80feb9b419a",
   "metadata": {},
   "outputs": [
    {
     "name": "stdout",
     "output_type": "stream",
     "text": [
      "(1200, 32, 32) (1200, 32, 32) (120, 32, 32) (120, 32, 32)\n"
     ]
    },
    {
     "data": {
      "image/png": "[encoded data removed]",
      "text/plain": [
       "<Figure size 200x200 with 1 Axes>"
      ]
     },
     "metadata": {},
     "output_type": "display_data"
    },
    {
     "data": {
      "image/png": "[encoded data removed]",
      "text/plain": [
       "<Figure size 200x200 with 1 Axes>"
      ]
     },
     "metadata": {},
     "output_type": "display_data"
    },
    {
     "data": {
      "image/png": "[encoded data removed]",
      "text/plain": [
       "<Figure size 200x200 with 1 Axes>"
      ]
     },
     "metadata": {},
     "output_type": "display_data"
    },
    {
     "data": {
      "image/png": "[encoded data removed]",
      "text/plain": [
       "<Figure size 200x200 with 1 Axes>"
      ]
     },
     "metadata": {},
     "output_type": "display_data"
    }
   ],
   "source": [
    "with open(pathToDir+dataSetFileName, 'rb') as f:\n",
    "     data = pickle.load(f)\n",
    "\n",
    "trainImages, trainMasks, testImages, testMasks = data \n",
    "\n",
    "print(trainImages.shape, trainMasks.shape, testImages.shape, testMasks.shape)\n",
    "\n",
    "plotImageF(trainImages[1], figureSize = 2)\n",
    "plotImageF(trainMasks[1], figureSize = 2)\n",
    "\n",
    "plotImageF(testImages[1], figureSize = 2)\n",
    "plotImageF(testMasks[1], figureSize = 2)"
   ]
  }
 ],
 "metadata": {
  "kernelspec": {
   "display_name": "Python 3 (ipykernel)",
   "language": "python",
   "name": "python3"
  },
  "language_info": {
   "codemirror_mode": {
    "name": "ipython",
    "version": 3
   },
   "file_extension": ".py",
   "mimetype": "text/x-python",
   "name": "python",
   "nbconvert_exporter": "python",
   "pygments_lexer": "ipython3",
   "version": "3.12.8"
  }
 },
 "nbformat": 4,
 "nbformat_minor": 5
}
