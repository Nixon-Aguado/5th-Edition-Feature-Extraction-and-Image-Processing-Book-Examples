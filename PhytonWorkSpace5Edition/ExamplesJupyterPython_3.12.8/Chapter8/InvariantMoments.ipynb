{
 "cells": [
  {
   "cell_type": "markdown",
   "id": "2eb539e0",
   "metadata": {},
   "source": [
    "# Feature Extraction and Image Processing\n",
    "Mark S. Nixon & Alberto S. Aguado http://www.southampton.ac.uk/~msn/book/\n",
    "### Chapter 8: *InvariantMoments*\n",
    "Compute invariant moments of a shape in an image \n",
    "***  "
   ]
  },
  {
   "cell_type": "markdown",
   "id": "64cdb2ed",
   "metadata": {},
   "source": [
    "### Setup modules"
   ]
  },
  {
   "cell_type": "code",
   "execution_count": 1,
   "id": "3e8ec376",
   "metadata": {},
   "outputs": [],
   "source": [
    "import os\n",
    "import sys\n",
    "sys.path.append(os.path.join(os.path.dirname(\"__file__\"), \"../../Modules\"))\n",
    "\n",
    "# Module functions\n",
    "from ImageUtilities import imageReadL, plotImageL, createImageF\n",
    "from PrintUtilities import printImageRangeF, printText\n",
    "from ImageRegionsUtilities import pixlesList\n",
    "\n",
    "# Math and iteration\n",
    "from math import  pi, atan, sin, cos, log10\n",
    "from timeit import itertools"
   ]
  },
  {
   "cell_type": "markdown",
   "id": "4489d1e9",
   "metadata": {},
   "source": [
    "### Parameters:\n",
    "    pathToDir = Input image directory\n",
    "    imageName = Input image name\n",
    "    numMoments = Number of moments\n",
    "    background = The gray level range of the background pixels"
   ]
  },
  {
   "cell_type": "code",
   "execution_count": 2,
   "id": "b85bf4f2",
   "metadata": {},
   "outputs": [],
   "source": [
    "pathToDir = os.path.join(os.path.dirname(\"__file__\"), \"../../Images/Chapter8/Input/\")\n",
    "imageName = \"f14rs.png\"\n",
    "numMoments = 4\n",
    "background = [200, 255] # white background image"
   ]
  },
  {
   "cell_type": "markdown",
   "id": "a2c330f4",
   "metadata": {},
   "source": [
    "### Obtain a shape from the input image and show shape is a 2 row image with y,x coordinates# Show input image"
   ]
  },
  {
   "cell_type": "code",
   "execution_count": 3,
   "id": "0b8b8c4a",
   "metadata": {
    "scrolled": true
   },
   "outputs": [
    {
     "data": {
      "image/png": "[encoded data removed]",
      "text/plain": [
       "<Figure size 300x300 with 1 Axes>"
      ]
     },
     "metadata": {},
     "output_type": "display_data"
    }
   ],
   "source": [
    "inputImage, width, height = imageReadL(pathToDir+imageName)\n",
    "plotImageL(inputImage, figureSize = 3)"
   ]
  },
  {
   "cell_type": "markdown",
   "id": "14d9c96e-8e12-40d6-ad8f-a18c978b84d1",
   "metadata": {},
   "source": [
    "### Compute geometric moments"
   ]
  },
  {
   "cell_type": "code",
   "execution_count": 4,
   "id": "e7d97f94-e4cf-427b-af7a-6a4c6dbd095d",
   "metadata": {},
   "outputs": [],
   "source": [
    "# Get a list that contains the pixels of the shape in the form (y,x,val) \n",
    "# We could have used the border pixels\n",
    "imageRegion = pixlesList(inputImage, background)\n",
    "\n",
    "# Compute geometric moments\n",
    "numPoints = len(imageRegion)\n",
    "M = createImageF(numMoments,numMoments)\n",
    "for m,n in itertools.product(range(0, numMoments), range(0, numMoments)):\n",
    "    for indexPixel in range(0, numPoints):\n",
    "        y = (imageRegion[indexPixel])[0]\n",
    "        x = (imageRegion[indexPixel])[1]\n",
    "        v = (imageRegion[indexPixel])[2]\n",
    "        M[n,m] += (x**n) * (y**m) * v"
   ]
  },
  {
   "cell_type": "markdown",
   "id": "10bac109-c370-4dbc-abc9-c1f7d93dfbea",
   "metadata": {},
   "source": [
    "### Geometric central Moments"
   ]
  },
  {
   "cell_type": "code",
   "execution_count": 5,
   "id": "f1be9aa7-ef21-4fcd-b058-8d930353d4ea",
   "metadata": {},
   "outputs": [],
   "source": [
    "xc,yc = M[1,0]/M[0,0], M[0,1]/M[0,0]\n",
    "centMom = createImageF(numMoments,numMoments)\n",
    "for m,n in itertools.product(range(0, numMoments), range(0, numMoments)):\n",
    "    for indexPixel in range(0, numPoints):\n",
    "        y = (imageRegion[indexPixel])[0]\n",
    "        x = (imageRegion[indexPixel])[1]\n",
    "        v = (imageRegion[indexPixel])[2]\n",
    "        centMom[n,m] += ((x-xc)**n) * ((y-yc)**m) * v"
   ]
  },
  {
   "cell_type": "markdown",
   "id": "d14323c4-03ac-4949-bd03-1d9f235d0b19",
   "metadata": {},
   "source": [
    "### Scale normalized geometric central Moments "
   ]
  },
  {
   "cell_type": "code",
   "execution_count": 6,
   "id": "653d942f-7f38-45fa-b8dc-49325206f6f1",
   "metadata": {},
   "outputs": [],
   "source": [
    "centMomNorm = createImageF(numMoments,numMoments)\n",
    "for m,n in itertools.product(range(0, numMoments), range(0, numMoments)):\n",
    "    c = 1 + ((n + m) / 2.0)\n",
    "    centMomNorm[n,m] = centMom[n,m] / pow(centMom[0,0], c)"
   ]
  },
  {
   "cell_type": "markdown",
   "id": "f93b2839-a1f0-4438-95b2-43eccef49604",
   "metadata": {},
   "source": [
    "### Angle from central moments"
   ]
  },
  {
   "cell_type": "code",
   "execution_count": 7,
   "id": "b603a87e-125e-49b7-851d-82c6153d5932",
   "metadata": {},
   "outputs": [],
   "source": [
    "if centMom[2,0] < centMom[0,2]:\n",
    "    t = 0.5 * atan(2.0*centMom[1,1]/(centMom[2,0]-centMom[0,2])) + pi/2.0\n",
    "else:\n",
    "    t = 0.5 * atan(2.0*centMom[1,1]/(centMom[2,0]-centMom[0,2]))"
   ]
  },
  {
   "cell_type": "markdown",
   "id": "6920dbcb-f082-465e-a640-9e81b1ba9dc3",
   "metadata": {},
   "source": [
    "### Geometric invariant moments from image region"
   ]
  },
  {
   "cell_type": "code",
   "execution_count": 8,
   "id": "45449271-f6f6-431e-80d7-0f632f53a62b",
   "metadata": {},
   "outputs": [
    {
     "name": "stdout",
     "output_type": "stream",
     "text": [
      "\n",
      "\n",
      "[   0.00   0.00  -1.10  -3.21 ]\n",
      "[ -16.97 -15.10  -1.83   0.00 ]\n",
      "[  -0.86   0.00  -2.20   0.00 ]\n",
      "[   0.00  -3.46  -2.74   0.00 ]\n"
     ]
    }
   ],
   "source": [
    "# Opposite direction for rotation invariant\n",
    "t = -t;\n",
    "\n",
    "# Geometric invariant moments from image region\n",
    "vn = createImageF(numMoments,numMoments)\n",
    "for m,n in itertools.product(range(0, numMoments), range(0, numMoments)):\n",
    "    for indexPixel in range(0, numPoints):\n",
    "        y = (imageRegion[indexPixel])[0]\n",
    "        x = (imageRegion[indexPixel])[1]\n",
    "        val = (imageRegion[indexPixel])[2]\n",
    "        vn[n,m] += ((x-xc)*cos(t) - (y-yc)*sin(t))**n *                     \\\n",
    "                   ((x-xc)*sin(t) + (y-yc)*cos(t))**m * val\n",
    "    c = 1 + ((n + m) / 2.0)\n",
    "    if vn[n,m] > 0: vn[n,m] = log10(vn[n,m] / pow(M[0,0],c))\n",
    "    else:           vn[n,m] = 0  \n",
    "    \n",
    "printImageRangeF(vn, [0,numMoments-1],[0,numMoments-1], \"6.2f\")"
   ]
  },
  {
   "cell_type": "markdown",
   "id": "82f0a9b4-ef19-4b4e-82fa-26cd2403391d",
   "metadata": {},
   "source": [
    "#### Compute invariant moments from normailsed central moments"
   ]
  },
  {
   "cell_type": "code",
   "execution_count": 9,
   "id": "96183431-a0ad-4061-a8f3-9591a2770df7",
   "metadata": {},
   "outputs": [
    {
     "name": "stdout",
     "output_type": "stream",
     "text": [
      "M1 = 0.2192\n",
      "M2 = 0.0036\n",
      "M3 = 0.0069\n"
     ]
    }
   ],
   "source": [
    "m1 = centMomNorm[2,0] + centMomNorm[0,2]\n",
    "m2 = (centMomNorm[2,0] - centMomNorm[0,2])**2 + 4*  (centMomNorm[1,1]**2)  \n",
    "m3 = (centMomNorm[3,0] - 3.0*centMomNorm[1,2])**2 + (3.0*centMomNorm[2,1]  \\\n",
    "                       - centMomNorm[0,3])**2\n",
    "\n",
    "printText(\"M1 = \" + '%.4f' % m1)\n",
    "printText(\"M2 = \" + '%.4f' % m2)\n",
    "printText(\"M3 = \" + '%.4f' % m3)"
   ]
  }
 ],
 "metadata": {
  "kernelspec": {
   "display_name": "Python 3 (ipykernel)",
   "language": "python",
   "name": "python3"
  },
  "language_info": {
   "codemirror_mode": {
    "name": "ipython",
    "version": 3
   },
   "file_extension": ".py",
   "mimetype": "text/x-python",
   "name": "python",
   "nbconvert_exporter": "python",
   "pygments_lexer": "ipython3",
   "version": "3.12.8"
  }
 },
 "nbformat": 4,
 "nbformat_minor": 5
}
