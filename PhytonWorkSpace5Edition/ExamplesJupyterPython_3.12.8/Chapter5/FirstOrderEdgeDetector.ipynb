{
 "cells": [
  {
   "cell_type": "markdown",
   "id": "2eb539e0",
   "metadata": {},
   "source": [
    "# Feature Extraction and Image Processing\n",
    "Mark S. Nixon & Alberto S. Aguado http://www.southampton.ac.uk/~msn/book/\n",
    "### Chapter 5: *FirstOrderEdgeDetector*\n",
    "Compute gradient by first order derivative\n",
    "***  "
   ]
  },
  {
   "cell_type": "markdown",
   "id": "64cdb2ed",
   "metadata": {},
   "source": [
    "### Setup modules"
   ]
  },
  {
   "cell_type": "code",
   "execution_count": 1,
   "id": "3e8ec376",
   "metadata": {},
   "outputs": [],
   "source": [
    "import os\n",
    "import sys\n",
    "sys.path.append(os.path.join(os.path.dirname(\"__file__\"), \"../../Modules\"))\n",
    "\n",
    "# Module functions\n",
    "from ImageUtilities import imageReadL, createImageF, plotImageL, plotImageF \n",
    "\n",
    "# Math and iteration\n",
    "from timeit import itertools"
   ]
  },
  {
   "cell_type": "markdown",
   "id": "4489d1e9",
   "metadata": {},
   "source": [
    "### Parameters:\n",
    "    imageName = Input image name"
   ]
  },
  {
   "cell_type": "code",
   "execution_count": 2,
   "id": "b85bf4f2",
   "metadata": {},
   "outputs": [],
   "source": [
    "imageName = \"Squares.png\""
   ]
  },
  {
   "cell_type": "markdown",
   "id": "a2c330f4",
   "metadata": {},
   "source": [
    "### Read and show image"
   ]
  },
  {
   "cell_type": "code",
   "execution_count": 3,
   "id": "0b8b8c4a",
   "metadata": {
    "scrolled": true
   },
   "outputs": [
    {
     "data": {
      "image/png": "[encoded data removed]",
      "text/plain": [
       "<Figure size 400x400 with 1 Axes>"
      ]
     },
     "metadata": {},
     "output_type": "display_data"
    }
   ],
   "source": [
    "pathToDir = os.path.join(os.path.dirname(\"__file__\"), \"../../Images/Chapter5/Input/\")\n",
    "inputImage, width, height = imageReadL(pathToDir + imageName)\n",
    "plotImageL(inputImage, figureSize = 4)"
   ]
  },
  {
   "cell_type": "markdown",
   "id": "a142480e",
   "metadata": {},
   "source": [
    "### Compute edges"
   ]
  },
  {
   "cell_type": "code",
   "execution_count": 4,
   "id": "49ef69df",
   "metadata": {},
   "outputs": [],
   "source": [
    "horizEdges = createImageF(width, height)\n",
    "vertEdges = createImageF(width, height)\n",
    "outputEdges = createImageF(width, height)\n",
    "\n",
    "for x,y in itertools.product(range(0, width-1), range(0, height-1)):\n",
    "\n",
    "    horizEdges[y,x] = abs(float(inputImage[y,x]) - float(inputImage[y+1,x]))\n",
    "    vertEdges[y,x] = abs(float(inputImage[y,x]) - float(inputImage[y,x+1]))\n",
    "    \n",
    "    outputEdges[y,x] = abs(2.0* float(inputImage[y,x]) -                        \\\n",
    "                       float(inputImage[y+1,x]) - float(inputImage[y,x+1]))"
   ]
  },
  {
   "cell_type": "markdown",
   "id": "2b12a063-e017-4eb1-8e80-34918bfefa6c",
   "metadata": {},
   "source": [
    "### Show edges"
   ]
  },
  {
   "cell_type": "code",
   "execution_count": 5,
   "id": "d56d1486-78a2-421e-9356-6093fceb9fc6",
   "metadata": {},
   "outputs": [
    {
     "data": {
      "image/png": "[encoded data removed]",
      "text/plain": [
       "<Figure size 400x400 with 1 Axes>"
      ]
     },
     "metadata": {},
     "output_type": "display_data"
    },
    {
     "data": {
      "image/png": "[encoded data removed]",
      "text/plain": [
       "<Figure size 400x400 with 1 Axes>"
      ]
     },
     "metadata": {},
     "output_type": "display_data"
    },
    {
     "data": {
      "image/png": "[encoded data removed]",
      "text/plain": [
       "<Figure size 400x400 with 1 Axes>"
      ]
     },
     "metadata": {},
     "output_type": "display_data"
    }
   ],
   "source": [
    "plotImageF(horizEdges, figureSize = 4) \n",
    "plotImageF(vertEdges, figureSize = 4)\n",
    "plotImageF(outputEdges, figureSize = 4)"
   ]
  }
 ],
 "metadata": {
  "kernelspec": {
   "display_name": "Python 3 (ipykernel)",
   "language": "python",
   "name": "python3"
  },
  "language_info": {
   "codemirror_mode": {
    "name": "ipython",
    "version": 3
   },
   "file_extension": ".py",
   "mimetype": "text/x-python",
   "name": "python",
   "nbconvert_exporter": "python",
   "pygments_lexer": "ipython3",
   "version": "3.11.9"
  }
 },
 "nbformat": 4,
 "nbformat_minor": 5
}
