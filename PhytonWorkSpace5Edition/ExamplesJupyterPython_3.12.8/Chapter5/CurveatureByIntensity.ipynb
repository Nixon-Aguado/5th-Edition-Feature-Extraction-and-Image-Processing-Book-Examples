{
 "cells": [
  {
   "cell_type": "markdown",
   "id": "2eb539e0",
   "metadata": {},
   "source": [
    "# Feature Extraction and Image Processing\n",
    "Mark S. Nixon & Alberto S. Aguado http://www.southampton.ac.uk/~msn/book/\n",
    "### Chapter 5: *CurvatureByIntensity*\n",
    "Obtain curvature by changes in intensities\n",
    "***  "
   ]
  },
  {
   "cell_type": "markdown",
   "id": "64cdb2ed",
   "metadata": {},
   "source": [
    "### Setup modules"
   ]
  },
  {
   "cell_type": "code",
   "execution_count": 1,
   "id": "3e8ec376",
   "metadata": {},
   "outputs": [],
   "source": [
    "import os\n",
    "import sys\n",
    "sys.path.append(os.path.join(os.path.dirname(\"__file__\"), \"../../Modules\"))\n",
    "\n",
    "# Module functions\n",
    "from ImageUtilities import imageReadL, createImageF, plotImageL, plotImageF \n",
    "from ImageOperatorsUtilities import applyCannyEdgeDetector\n",
    "from ConvolutionUtilities import createSobelKernel, applyKernelF\n",
    "\n",
    "# Math and iteration\n",
    "from math import fabs\n",
    "from timeit import itertools"
   ]
  },
  {
   "cell_type": "markdown",
   "id": "4489d1e9",
   "metadata": {},
   "source": [
    "### Parameters:\n",
    "    imageName = Input image name\n",
    "    GaussianKernelSize = Gaussian kernel size. Filter noise\n",
    "    sobelKernelSize = Sobel kernel size. Edge detection\n",
    "    upperT = Upper threshold\n",
    "    lowerT = Lower threshold\n",
    "    op = Method option   \n",
    "            T for tangent direction\n",
    "            TI for tangent inverse\n",
    "            N for normal direction\n",
    "            NI for normal inverse"
   ]
  },
  {
   "cell_type": "code",
   "execution_count": 2,
   "id": "b85bf4f2",
   "metadata": {},
   "outputs": [],
   "source": [
    "imageName = \"Shapes.png\"\n",
    "GaussianKernelSize = 7\n",
    "sobelKernelSize = 3\n",
    "upperT = 0.4\n",
    "lowerT = 0.2\n",
    "op = \"T\""
   ]
  },
  {
   "cell_type": "markdown",
   "id": "a2c330f4",
   "metadata": {},
   "source": [
    "### Read and show image"
   ]
  },
  {
   "cell_type": "code",
   "execution_count": 3,
   "id": "0b8b8c4a",
   "metadata": {
    "scrolled": true
   },
   "outputs": [
    {
     "data": {
      "image/png": "[encoded data removed]",
      "text/plain": [
       "<Figure size 400x400 with 1 Axes>"
      ]
     },
     "metadata": {},
     "output_type": "display_data"
    }
   ],
   "source": [
    "pathToDir = os.path.join(os.path.dirname(\"__file__\"), \"../../Images/Chapter5/Input/\")\n",
    "inputImage, width, height = imageReadL(pathToDir + imageName)\n",
    "plotImageL(inputImage, figureSize = 4)"
   ]
  },
  {
   "cell_type": "markdown",
   "id": "a142480e",
   "metadata": {},
   "source": [
    "### Apply Canny to obtain the edges from the image"
   ]
  },
  {
   "cell_type": "code",
   "execution_count": 4,
   "id": "8912f586-e758-4421-af1d-aebcdacc5fcd",
   "metadata": {},
   "outputs": [],
   "source": [
    "magnitude, angle, mX, mY = applyCannyEdgeDetector(inputImage, GaussianKernelSize, sobelKernelSize, upperT, lowerT, True)"
   ]
  },
  {
   "cell_type": "markdown",
   "id": "6c1a305d-9014-4c25-be42-6a3ae242847d",
   "metadata": {},
   "source": [
    "### Obtain gradient of the gradient"
   ]
  },
  {
   "cell_type": "code",
   "execution_count": 5,
   "id": "559edbae-fe65-4596-8004-7740b96dbecc",
   "metadata": {},
   "outputs": [],
   "source": [
    "# We apply 4 convolutions, but these can be computed in a single image pass  \n",
    "sobelX, sobelY = createSobelKernel(GaussianKernelSize)\n",
    "mXx = applyKernelF(mX, sobelX)\n",
    "mXy = applyKernelF(mX, sobelY)\n",
    "mYx = applyKernelF(mY, sobelX)\n",
    "mYy = applyKernelF(mY, sobelY)"
   ]
  },
  {
   "cell_type": "markdown",
   "id": "8f55f958-662b-4adb-a598-bf0539fde849",
   "metadata": {},
   "source": [
    "### Compute curvature"
   ]
  },
  {
   "cell_type": "code",
   "execution_count": 6,
   "id": "49ef69df",
   "metadata": {},
   "outputs": [],
   "source": [
    "curvature = createImageF(width, height)\n",
    "for x,y in itertools.product(range(0, width), range(0, height)):\n",
    "    # If it is an edge\n",
    "    if magnitude[y,x] > 0:\n",
    "        Mx2,My2,MxMy = mX[y,x]*mX[y,x], mY[y,x]*mY[y,x], mX[y,x]*mY[y,x]\n",
    "        \n",
    "        if Mx2 + My2 !=0.0:\n",
    "            p = 1.0/ pow((Mx2 + My2), 1.5)\n",
    "            \n",
    "            if op == \"T\":\n",
    "                curvature[y,x] = p * (My2 * mXx[y,x] - MxMy * mYx[y,x] +  \\\n",
    "                                      Mx2 * mYy[y,x] - MxMy * mXy[y,x])\n",
    "            if op == \"TI\":\n",
    "                curvature[y,x] = p * (-My2 * mXx[y,x] + MxMy * mYx[y,x] - \\\n",
    "                                      Mx2 * mYy[y,x] + MxMy * mXy[y,x])   \n",
    "            if op == \"N\":\n",
    "                curvature[y,x] = p * (Mx2  * mYx[y,x] - MxMy * mYx[y,x] - \\\n",
    "                                      MxMy * mYy[y,x] + My2  * mXy[y,x])   \n",
    "            if op == \"NI\":\n",
    "                curvature[y,x] = p * (-Mx2 *  mYx[y,x] + MxMy * mXx[y,x] + \\\n",
    "                                      MxMy * mYy[y,x] - My2 *  mXy[y,x]) \n",
    "                \n",
    "            curvature[y,x] = fabs(curvature[y,x])"
   ]
  },
  {
   "cell_type": "markdown",
   "id": "2b12a063-e017-4eb1-8e80-34918bfefa6c",
   "metadata": {},
   "source": [
    "### Show result"
   ]
  },
  {
   "cell_type": "code",
   "execution_count": 7,
   "id": "d56d1486-78a2-421e-9356-6093fceb9fc6",
   "metadata": {},
   "outputs": [
    {
     "data": {
      "image/png": "[encoded data removed]",
      "text/plain": [
       "<Figure size 400x400 with 1 Axes>"
      ]
     },
     "metadata": {},
     "output_type": "display_data"
    }
   ],
   "source": [
    "plotImageF(curvature, figureSize = 4)"
   ]
  }
 ],
 "metadata": {
  "kernelspec": {
   "display_name": "Python 3 (ipykernel)",
   "language": "python",
   "name": "python3"
  },
  "language_info": {
   "codemirror_mode": {
    "name": "ipython",
    "version": 3
   },
   "file_extension": ".py",
   "mimetype": "text/x-python",
   "name": "python",
   "nbconvert_exporter": "python",
   "pygments_lexer": "ipython3",
   "version": "3.11.9"
  }
 },
 "nbformat": 4,
 "nbformat_minor": 5
}
