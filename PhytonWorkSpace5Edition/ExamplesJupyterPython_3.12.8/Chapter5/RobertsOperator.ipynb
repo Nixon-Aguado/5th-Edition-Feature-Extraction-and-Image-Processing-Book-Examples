{
 "cells": [
  {
   "cell_type": "markdown",
   "id": "2eb539e0",
   "metadata": {},
   "source": [
    "# Feature Extraction and Image Processing\n",
    "Mark S. Nixon & Alberto S. Aguado http://www.southampton.ac.uk/~msn/book/\n",
    "### Chapter 5: *RobertsOperator*\n",
    "Compute the image gradient according to  detection by the Roberts operator"
   ]
  },
  {
   "cell_type": "markdown",
   "id": "64cdb2ed",
   "metadata": {},
   "source": [
    "### Setup modules"
   ]
  },
  {
   "cell_type": "code",
   "execution_count": 1,
   "id": "3e8ec376",
   "metadata": {},
   "outputs": [],
   "source": [
    "import os\n",
    "import sys\n",
    "sys.path.append(os.path.join(os.path.dirname(\"__file__\"), \"../../Modules\"))\n",
    "\n",
    "# Module functions\n",
    "from ImageUtilities import imageReadL, plotImageL, createImageF, plotImageF\n",
    "\n",
    "# Iteration\n",
    "from timeit import itertools"
   ]
  },
  {
   "cell_type": "markdown",
   "id": "4489d1e9",
   "metadata": {},
   "source": [
    "### Parameters:\n",
    "    imageName = Input image name"
   ]
  },
  {
   "cell_type": "code",
   "execution_count": 2,
   "id": "0b8b8c4a",
   "metadata": {
    "scrolled": true
   },
   "outputs": [],
   "source": [
    "imageName = \"Squares.png\""
   ]
  },
  {
   "cell_type": "markdown",
   "id": "a142480e",
   "metadata": {},
   "source": [
    "### Read and show input image"
   ]
  },
  {
   "cell_type": "code",
   "execution_count": 3,
   "id": "49ef69df",
   "metadata": {},
   "outputs": [
    {
     "data": {
      "image/png": "[encoded data removed]",
      "text/plain": [
       "<Figure size 400x400 with 1 Axes>"
      ]
     },
     "metadata": {},
     "output_type": "display_data"
    }
   ],
   "source": [
    "pathToDir = os.path.join(os.path.dirname(\"__file__\"), \"../../Images/Chapter5/Input/\")\n",
    "inputImage, width, height = imageReadL(pathToDir + imageName)\n",
    "plotImageL(inputImage, figureSize = 4)"
   ]
  },
  {
   "cell_type": "markdown",
   "id": "2b12a063-e017-4eb1-8e80-34918bfefa6c",
   "metadata": {},
   "source": [
    "### Create images to store the results"
   ]
  },
  {
   "cell_type": "code",
   "execution_count": 4,
   "id": "d56d1486-78a2-421e-9356-6093fceb9fc6",
   "metadata": {},
   "outputs": [],
   "source": [
    "outputMminus = createImageF(width, height)\n",
    "outputMplus = createImageF(width, height)\n",
    "outputEdges = createImageF(width, height)\n",
    "\n",
    "for x,y in itertools.product(range(0, width-1), range(0, height-1)):\n",
    "\n",
    "    outputMminus[y,x] = abs(float(inputImage[y,x]) - float(inputImage[y+1,x +1]))\n",
    "    outputMplus[y,x] = abs(float(inputImage[y+1,x]) - float(inputImage[y,x+1]))  \n",
    "    outputEdges[y,x] = max(outputMminus[y,x], outputMplus[y,x])"
   ]
  },
  {
   "cell_type": "markdown",
   "id": "e017b5ca-8903-45b7-af92-248441b52fe0",
   "metadata": {},
   "source": [
    "### Show horizontal, vertical and all edges"
   ]
  },
  {
   "cell_type": "code",
   "execution_count": 5,
   "id": "281670ec-33ab-44fd-b137-6c273b1e83ef",
   "metadata": {},
   "outputs": [
    {
     "data": {
      "image/png": "[encoded data removed]",
      "text/plain": [
       "<Figure size 400x400 with 1 Axes>"
      ]
     },
     "metadata": {},
     "output_type": "display_data"
    },
    {
     "data": {
      "image/png": "[encoded data removed]",
      "text/plain": [
       "<Figure size 400x400 with 1 Axes>"
      ]
     },
     "metadata": {},
     "output_type": "display_data"
    },
    {
     "data": {
      "image/png": "[encoded data removed]",
      "text/plain": [
       "<Figure size 400x400 with 1 Axes>"
      ]
     },
     "metadata": {},
     "output_type": "display_data"
    }
   ],
   "source": [
    "plotImageF(outputMminus, figureSize = 4)\n",
    "plotImageF(outputMplus, figureSize = 4)\n",
    "plotImageF(outputEdges, figureSize = 4)"
   ]
  }
 ],
 "metadata": {
  "kernelspec": {
   "display_name": "Python 3 (ipykernel)",
   "language": "python",
   "name": "python3"
  },
  "language_info": {
   "codemirror_mode": {
    "name": "ipython",
    "version": 3
   },
   "file_extension": ".py",
   "mimetype": "text/x-python",
   "name": "python",
   "nbconvert_exporter": "python",
   "pygments_lexer": "ipython3",
   "version": "3.11.9"
  }
 },
 "nbformat": 4,
 "nbformat_minor": 5
}
