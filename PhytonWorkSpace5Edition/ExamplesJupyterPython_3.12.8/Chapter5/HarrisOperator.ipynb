{
 "cells": [
  {
   "cell_type": "markdown",
   "id": "2eb539e0",
   "metadata": {},
   "source": [
    "# Feature Extraction and Image Processing\n",
    "Mark S. Nixon & Alberto S. Aguado http://www.southampton.ac.uk/~msn/book/\n",
    "### Chapter 5: *HarrisOperator*\n",
    "Compute corners by using the Harris operator or minimal direction\n",
    "***  "
   ]
  },
  {
   "cell_type": "markdown",
   "id": "64cdb2ed",
   "metadata": {},
   "source": [
    "### Setup modules"
   ]
  },
  {
   "cell_type": "code",
   "execution_count": 1,
   "id": "3e8ec376",
   "metadata": {},
   "outputs": [],
   "source": [
    "import os\n",
    "import sys\n",
    "sys.path.append(os.path.join(os.path.dirname(\"__file__\"), \"../../Modules\"))\n",
    "\n",
    "# Module functions\n",
    "from ImageUtilities import imageReadL, createImageF, plotImageL, plotImageF\n",
    "from ImageOperatorsUtilities import applyCannyEdgeDetector\n",
    "\n",
    "# Math and iteration\n",
    "from timeit import itertools"
   ]
  },
  {
   "cell_type": "markdown",
   "id": "4489d1e9",
   "metadata": {},
   "source": [
    "### Parameters:\n",
    "    imageName = Input image name\n",
    "    GaussianKernelSize = Gaussian kernel size. Filter noise\n",
    "    sobelKernelSize = Sobel kernel size. Edge detection\n",
    "    upperT = Upper threshold\n",
    "    lowerT = Lower threshold\n",
    "    kernelSize = Size of the kernel \n",
    "    k = Second term constant    \n",
    "    op = H for Harris operator \n",
    "         M for minimum direction"
   ]
  },
  {
   "cell_type": "markdown",
   "id": "a2c330f4",
   "metadata": {},
   "source": [
    "### Read and show image"
   ]
  },
  {
   "cell_type": "code",
   "execution_count": 2,
   "id": "0b8b8c4a",
   "metadata": {
    "scrolled": true
   },
   "outputs": [],
   "source": [
    "imageName = \"Shapes.png\"\n",
    "GaussianKernelSize = 7\n",
    "sobelKernelSize = 3\n",
    "upperT = 0.4\n",
    "lowerT = 0.2\n",
    "kernelSize = 9\n",
    "k = .02\n",
    "op = \"H\""
   ]
  },
  {
   "cell_type": "markdown",
   "id": "a142480e",
   "metadata": {},
   "source": [
    "### Read image and show image"
   ]
  },
  {
   "cell_type": "code",
   "execution_count": 3,
   "id": "49ef69df",
   "metadata": {},
   "outputs": [
    {
     "data": {
      "image/png": "[encoded data removed]",
      "text/plain": [
       "<Figure size 400x400 with 1 Axes>"
      ]
     },
     "metadata": {},
     "output_type": "display_data"
    }
   ],
   "source": [
    "pathToDir = os.path.join(os.path.dirname(\"__file__\"), \"../../Images/Chapter5/Input/\")\n",
    "inputImage, width, height = imageReadL(pathToDir + imageName)\n",
    "plotImageL(inputImage, figureSize = 4)"
   ]
  },
  {
   "cell_type": "markdown",
   "id": "2b12a063-e017-4eb1-8e80-34918bfefa6c",
   "metadata": {},
   "source": [
    "### Obtain the edges and set the kernel center"
   ]
  },
  {
   "cell_type": "code",
   "execution_count": 4,
   "id": "d56d1486-78a2-421e-9356-6093fceb9fc6",
   "metadata": {},
   "outputs": [],
   "source": [
    "magnitude, angle, mX, mY = applyCannyEdgeDetector(inputImage, \n",
    "                                GaussianKernelSize, sobelKernelSize, upperT, lowerT, True)        \\\n",
    "# The center of the kernel\n",
    "kernelCentre = int((kernelSize - 1) / 2)"
   ]
  },
  {
   "cell_type": "markdown",
   "id": "9ab13882-0f79-4e13-ac69-bdf84be211f5",
   "metadata": {},
   "source": [
    "### Compute curvature"
   ]
  },
  {
   "cell_type": "code",
   "execution_count": 5,
   "id": "281670ec-33ab-44fd-b137-6c273b1e83ef",
   "metadata": {},
   "outputs": [],
   "source": [
    "curvature = createImageF(width, height)\n",
    "for x,y in itertools.product(range(0, width), range(0, height)):\n",
    "    # If it is an edge\n",
    "    if magnitude[y,x] > 0:\n",
    "        A, B, C = 0.0, 0.0, 0.0\n",
    "        for wx,wy in itertools.product(range(0, kernelSize), range(0, kernelSize)):\n",
    "            posY = y + wy - kernelCentre\n",
    "            posX = x + wx - kernelCentre \n",
    "                \n",
    "            if posY > -1 and posY <  height and posX > -1 and posX <  width:\n",
    "                A += mX[posY,posX] * mX[posY,posX]\n",
    "                B += mY[posY,posX] * mY[posY,posX]\n",
    "                C += mX[posY,posX] * mY[posY,posX]\n",
    "                    \n",
    "        if op == \"H\":\n",
    "                curvature[y,x] = (A * B) - (C * C) - (k * ((A+B) * (A+B)))\n",
    "        if op == \"M\":\n",
    "                d = mX[y,x] * mX[y,x] + mY[y,x] * mY[y,x]\n",
    "                if d != 0.0:\n",
    "                    curvature[y,x] = (A * mY[y,x] * mY[y,x] -                   \\\n",
    "                                      2.0 * C * mX[y,x] * mY[y,x] +             \\\n",
    "                                      B * mX[y,x] * mX[y,x]) / d"
   ]
  },
  {
   "cell_type": "markdown",
   "id": "2618f556-26f6-4995-b93c-9ea5c5d8a261",
   "metadata": {},
   "source": [
    "# Show result"
   ]
  },
  {
   "cell_type": "code",
   "execution_count": 6,
   "id": "f16dbd39-7973-44c1-9623-97dcea3e398b",
   "metadata": {},
   "outputs": [
    {
     "data": {
      "image/png": "[encoded data removed]",
      "text/plain": [
       "<Figure size 400x400 with 1 Axes>"
      ]
     },
     "metadata": {},
     "output_type": "display_data"
    }
   ],
   "source": [
    "plotImageF(curvature, figureSize = 4)"
   ]
  }
 ],
 "metadata": {
  "kernelspec": {
   "display_name": "Python 3 (ipykernel)",
   "language": "python",
   "name": "python3"
  },
  "language_info": {
   "codemirror_mode": {
    "name": "ipython",
    "version": 3
   },
   "file_extension": ".py",
   "mimetype": "text/x-python",
   "name": "python",
   "nbconvert_exporter": "python",
   "pygments_lexer": "ipython3",
   "version": "3.11.9"
  }
 },
 "nbformat": 4,
 "nbformat_minor": 5
}
