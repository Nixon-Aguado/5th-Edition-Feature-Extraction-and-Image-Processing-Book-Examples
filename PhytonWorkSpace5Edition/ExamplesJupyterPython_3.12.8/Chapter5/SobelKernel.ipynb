{
 "cells": [
  {
   "cell_type": "markdown",
   "id": "2eb539e0",
   "metadata": {},
   "source": [
    "# Feature Extraction and Image Processing\n",
    "Mark S. Nixon & Alberto S. Aguado http://www.southampton.ac.uk/~msn/book/\n",
    "### Chapter 5: *SobelKernel*\n",
    "Generate a Sobel kernel of arbitrary size"
   ]
  },
  {
   "cell_type": "markdown",
   "id": "64cdb2ed",
   "metadata": {},
   "source": [
    "### Setup modules"
   ]
  },
  {
   "cell_type": "code",
   "execution_count": 1,
   "id": "3e8ec376",
   "metadata": {},
   "outputs": [],
   "source": [
    "import os\n",
    "import sys\n",
    "sys.path.append(os.path.join(os.path.dirname(\"__file__\"), \"../../Modules\"))\n",
    "\n",
    "# Set module functions\n",
    "from ImageUtilities import createImageUV\n",
    "from PrintUtilities import printImageRangeF\n",
    "\n",
    "# Math and iteration\n",
    "from math import factorial\n",
    "from timeit import itertools "
   ]
  },
  {
   "cell_type": "markdown",
   "id": "4489d1e9",
   "metadata": {},
   "source": [
    "### Parameters:\n",
    "    kernelSize = Size of the kernel"
   ]
  },
  {
   "cell_type": "code",
   "execution_count": 2,
   "id": "0b8b8c4a",
   "metadata": {
    "scrolled": true
   },
   "outputs": [],
   "source": [
    "kernelSize = 5"
   ]
  },
  {
   "cell_type": "markdown",
   "id": "a142480e",
   "metadata": {},
   "source": [
    "### Pascal kernels pascal2 is a shifted version of pascal1"
   ]
  },
  {
   "cell_type": "code",
   "execution_count": 3,
   "id": "49ef69df",
   "metadata": {},
   "outputs": [],
   "source": [
    "pascal1 = createImageUV(kernelSize, kernelSize)\n",
    "pascal2 = createImageUV(kernelSize, kernelSize)\n",
    "\n",
    "smooth = createImageUV(kernelSize, kernelSize)\n",
    "sobel = createImageUV(kernelSize, kernelSize)"
   ]
  },
  {
   "cell_type": "markdown",
   "id": "2b12a063-e017-4eb1-8e80-34918bfefa6c",
   "metadata": {},
   "source": [
    "### Create kernels"
   ]
  },
  {
   "cell_type": "code",
   "execution_count": 4,
   "id": "d56d1486-78a2-421e-9356-6093fceb9fc6",
   "metadata": {},
   "outputs": [],
   "source": [
    "for x,y in itertools.product(range(0, kernelSize), range(0, kernelSize)):\n",
    "        \n",
    "    # Smooth\n",
    "    smooth[y,x,0] = factorial(kernelSize - 1) /                           \\\n",
    "                    (factorial(kernelSize - 1 - x) * factorial(x))\n",
    "    smooth[y,x,1] = factorial(kernelSize - 1) /                           \\\n",
    "                    (factorial(kernelSize - 1 - y) * factorial(y))\n",
    "    \n",
    "    # Pascal \n",
    "    if (kernelSize - 2 - x >= 0):\n",
    "        pascal1[y,x,0] = factorial(kernelSize - 2) /                      \\\n",
    "                         (factorial(kernelSize - 2 - x) * factorial(x))\n",
    "    \n",
    "    if (kernelSize - 2 - y >= 0):    \n",
    "        pascal1[y,x,1] = factorial(kernelSize - 2) /                      \\\n",
    "                         (factorial(kernelSize - 2 - y) * factorial(y))\n",
    "        \n",
    "    # Pascal shift to the right\n",
    "    xp = x - 1\n",
    "    if (kernelSize - 2 - xp >= 0 and xp >= 0):\n",
    "        pascal2[y,x,0] = factorial(kernelSize - 2) /                      \\\n",
    "                         (factorial(kernelSize - 2 - xp) * factorial(xp))\n",
    "        \n",
    "    yp = y - 1\n",
    "    if (kernelSize - 2 - yp >= 0 and yp >= 0):\n",
    "        pascal2[y,x,1] = factorial(kernelSize - 2) /                      \\\n",
    "                         (factorial(kernelSize - 2 - yp) * factorial(yp))\n",
    "        \n",
    "    # Sobel    \n",
    "    sobel[y,x,0] = smooth[y,x,1] * (pascal1[y,x,0] - pascal2[y,x,0])\n",
    "    sobel[y,x,1] = smooth[y,x,0] * (pascal1[y,x,1] - pascal2[y,x,1])                                       \n",
    "  "
   ]
  },
  {
   "cell_type": "markdown",
   "id": "e017b5ca-8903-45b7-af92-248441b52fe0",
   "metadata": {},
   "source": [
    "### Print pixel's values of the kernel"
   ]
  },
  {
   "cell_type": "code",
   "execution_count": 5,
   "id": "281670ec-33ab-44fd-b137-6c273b1e83ef",
   "metadata": {},
   "outputs": [
    {
     "name": "stdout",
     "output_type": "stream",
     "text": [
      "\n",
      "\n",
      "[  1  4  6  4  1 ]\n",
      "[  1  4  6  4  1 ]\n",
      "[  1  4  6  4  1 ]\n",
      "[  1  4  6  4  1 ]\n",
      "[  1  4  6  4  1 ]\n",
      "\n",
      "\n",
      "[  1  1  1  1  1 ]\n",
      "[  4  4  4  4  4 ]\n",
      "[  6  6  6  6  6 ]\n",
      "[  4  4  4  4  4 ]\n",
      "[  1  1  1  1  1 ]\n",
      "\n",
      "\n",
      "[  1  3  3  1  0 ]\n",
      "[  1  3  3  1  0 ]\n",
      "[  1  3  3  1  0 ]\n",
      "[  1  3  3  1  0 ]\n",
      "[  1  3  3  1  0 ]\n",
      "\n",
      "\n",
      "[  1  1  1  1  1 ]\n",
      "[  3  3  3  3  3 ]\n",
      "[  3  3  3  3  3 ]\n",
      "[  1  1  1  1  1 ]\n",
      "[  0  0  0  0  0 ]\n",
      "\n",
      "\n",
      "[  0  1  3  3  1 ]\n",
      "[  0  1  3  3  1 ]\n",
      "[  0  1  3  3  1 ]\n",
      "[  0  1  3  3  1 ]\n",
      "[  0  1  3  3  1 ]\n",
      "\n",
      "\n",
      "[  0  0  0  0  0 ]\n",
      "[  1  1  1  1  1 ]\n",
      "[  3  3  3  3  3 ]\n",
      "[  3  3  3  3  3 ]\n",
      "[  1  1  1  1  1 ]\n",
      "\n",
      "\n",
      "[    1    2    0   -2   -1 ]\n",
      "[    4    8    0   -8   -4 ]\n",
      "[    6   12    0  -12   -6 ]\n",
      "[    4    8    0   -8   -4 ]\n",
      "[    1    2    0   -2   -1 ]\n",
      "\n",
      "\n",
      "[    1    4    6    4    1 ]\n",
      "[    2    8   12    8    2 ]\n",
      "[    0    0    0    0    0 ]\n",
      "[   -2   -8  -12   -8   -2 ]\n",
      "[   -1   -4   -6   -4   -1 ]\n"
     ]
    }
   ],
   "source": [
    "printImageRangeF(smooth[:,:,0], [0, kernelSize-1], [0, kernelSize-1], '2.0f')\n",
    "printImageRangeF(smooth[:,:,1], [0, kernelSize-1], [0, kernelSize-1], '2.0f')\n",
    "\n",
    "printImageRangeF(pascal1[:,:,0], [0, kernelSize-1], [0, kernelSize-1], '2.0f')\n",
    "printImageRangeF(pascal1[:,:,1], [0, kernelSize-1], [0, kernelSize-1], '2.0f')\n",
    "\n",
    "printImageRangeF(pascal2[:,:,0], [0, kernelSize-1], [0, kernelSize-1], '2.0f')\n",
    "printImageRangeF(pascal2[:,:,1], [0, kernelSize-1], [0, kernelSize-1], '2.0f')\n",
    "\n",
    "printImageRangeF(sobel[:,:,0], [0, kernelSize-1], [0, kernelSize-1], '4.0f')\n",
    "printImageRangeF(sobel[:,:,1], [0, kernelSize-1], [0, kernelSize-1], '4.0f')"
   ]
  }
 ],
 "metadata": {
  "kernelspec": {
   "display_name": "Python 3 (ipykernel)",
   "language": "python",
   "name": "python3"
  },
  "language_info": {
   "codemirror_mode": {
    "name": "ipython",
    "version": 3
   },
   "file_extension": ".py",
   "mimetype": "text/x-python",
   "name": "python",
   "nbconvert_exporter": "python",
   "pygments_lexer": "ipython3",
   "version": "3.11.9"
  }
 },
 "nbformat": 4,
 "nbformat_minor": 5
}
