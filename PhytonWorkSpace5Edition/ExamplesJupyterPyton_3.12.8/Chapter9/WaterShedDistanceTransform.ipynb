{
 "cells": [
  {
   "cell_type": "markdown",
   "id": "2eb539e0",
   "metadata": {},
   "source": [
    "# Feature Extraction and Image Processing\n",
    "Mark S. Nixon & Alberto S. Aguado http://www.southampton.ac.uk/~msn/book/\n",
    "### Chapter 9: *MaximallyStableRegions*\n",
    "Compute maximally stable regions in an image\n",
    "***  "
   ]
  },
  {
   "cell_type": "markdown",
   "id": "64cdb2ed",
   "metadata": {},
   "source": [
    "### Setup modules"
   ]
  },
  {
   "cell_type": "code",
   "execution_count": 1,
   "id": "3e8ec376",
   "metadata": {},
   "outputs": [],
   "source": [
    "import os\n",
    "import sys\n",
    "sys.path.append(os.path.join(os.path.dirname(\"__file__\"), \"../../Modules\"))\n",
    "\n",
    "# Module functions\n",
    "from ImageUtilities import imageReadL, plotImageL,createImageF, plotImageF\n",
    "from ImagePropertiesUtilities import imageMaxMin\n",
    "from ImageRegionsUtilities import pixlesList, edgesList\n",
    "\n",
    "# Math and iteration\n",
    "from math import  sqrt\n",
    "from random import shuffle\n",
    "from timeit import itertools"
   ]
  },
  {
   "cell_type": "markdown",
   "id": "4489d1e9",
   "metadata": {},
   "source": [
    "### Parameters:\n",
    "    pathToDir = Input image directory\n",
    "    imageName = Input image name\n",
    "    backgroundRange = The gray level range value of the background"
   ]
  },
  {
   "cell_type": "code",
   "execution_count": 2,
   "id": "232d519a-9721-4501-8cd4-c8a6502fee2e",
   "metadata": {},
   "outputs": [],
   "source": [
    "pathToDir = os.path.join(os.path.dirname(\"__file__\"), \"../../Images/Chapter9/Input/\")\n",
    "imageName = \"circles.png\"\n",
    "background = [200, 255] \n",
    "\n",
    "FLT_MAX = sys.float_info.max"
   ]
  },
  {
   "cell_type": "markdown",
   "id": "2d324fa1-0621-4619-a935-892dc58417db",
   "metadata": {},
   "source": [
    "### Show input image"
   ]
  },
  {
   "cell_type": "code",
   "execution_count": 3,
   "id": "fbb4c52a-b7eb-4634-820f-cc2b3106bdce",
   "metadata": {},
   "outputs": [
    {
     "data": {
      "image/png": "[encoded data removed]",
      "text/plain": [
       "<Figure size 300x300 with 1 Axes>"
      ]
     },
     "metadata": {},
     "output_type": "display_data"
    }
   ],
   "source": [
    "inputImage, width, height = imageReadL(pathToDir+imageName)\n",
    "plotImageL(inputImage, figureSize = 3)"
   ]
  },
  {
   "cell_type": "markdown",
   "id": "8488a531-79c6-4b0c-af3a-3cdb0b9811e9",
   "metadata": {},
   "source": [
    "### Generate list of pixels"
   ]
  },
  {
   "cell_type": "code",
   "execution_count": 4,
   "id": "fba13907-b9f0-4706-b6b1-b42f7aba0ce6",
   "metadata": {},
   "outputs": [],
   "source": [
    "# Get a list that contains the pixels of the shape in the form (y,x,v) \n",
    "shapeImage = pixlesList(inputImage, background)\n",
    "numPoints = len(shapeImage)\n",
    "\n",
    "# Get a list of edge pixels\n",
    "edgePixels = edgesList(inputImage, shapeImage, background)"
   ]
  },
  {
   "cell_type": "markdown",
   "id": "e285f0e1-bb45-4f04-a507-27ea7b0eb71c",
   "metadata": {},
   "source": [
    "### Compute the radial distance to the edge"
   ]
  },
  {
   "cell_type": "code",
   "execution_count": 5,
   "id": "1473df03-e9e4-462f-b2ea-755f622e79d5",
   "metadata": {},
   "outputs": [
    {
     "data": {
      "image/png": "[encoded data removed]",
      "text/plain": [
       "<Figure size 300x300 with 1 Axes>"
      ]
     },
     "metadata": {},
     "output_type": "display_data"
    }
   ],
   "source": [
    "distanceImage = createImageF(width, height)\n",
    "numEdges = len(edgePixels)\n",
    "for indexPixel in range(0, numPoints):\n",
    "    y, x = (shapeImage[indexPixel])[0], (shapeImage[indexPixel])[1]\n",
    "    minEdgeDist = FLT_MAX\n",
    "    for indexEdge in range(0, numEdges):\n",
    "        edgeY, edgeX = (edgePixels[indexEdge])[0], (edgePixels[indexEdge])[1]\n",
    "        minEdgeDist = min(minEdgeDist, sqrt((edgeX-x)**2+(edgeY-y)**2))\n",
    "    distanceImage[y,x] = minEdgeDist \n",
    "    \n",
    "# Show distance\n",
    "plotImageF(distanceImage, figureSize = 3)"
   ]
  },
  {
   "cell_type": "markdown",
   "id": "e7aa7877-c787-48ac-9338-c8c1e058a355",
   "metadata": {},
   "source": [
    "### Create initial regions"
   ]
  },
  {
   "cell_type": "code",
   "execution_count": 6,
   "id": "a9076698-1a41-46a9-9707-2a6d7ad7ae8a",
   "metadata": {},
   "outputs": [],
   "source": [
    "# Watershed image\n",
    "watershed = createImageF(width, height)\n",
    "\n",
    "# Initial regions by finding the maximum\n",
    "suppWindow = 5    # Window used to find a maximum\n",
    "regionIndex = 1   # Start id for a region\n",
    "for indexPixel in range(0, numPoints):        \n",
    "    y, x = (shapeImage[indexPixel])[0], (shapeImage[indexPixel])[1]\n",
    "    if watershed[y,x] == 0:\n",
    "        peak = True\n",
    "        for wx,wy in itertools.product(range(x-suppWindow, x+suppWindow+1),    \\\n",
    "                                       range(y-suppWindow, y+suppWindow+1)):\n",
    "            if wy>=0 and wy<height and wx>=0 and wx<width:               \n",
    "                if watershed[wy, wx] != 0 or                                   \\\n",
    "                   distanceImage[y, x] < distanceImage[wy, wx]:\n",
    "                    peak = False\n",
    "        if peak:\n",
    "            for wx,wy in itertools.product(range(x-suppWindow, x+suppWindow+1), \\\n",
    "                                           range(y-suppWindow, y+suppWindow+1)):\n",
    "                if wy>=0 and wy<height and wx>=0 and wx<width:\n",
    "                    watershed[wy, wx] = regionIndex\n",
    "            regionIndex += 1\n",
    "            "
   ]
  },
  {
   "cell_type": "markdown",
   "id": "2ff7030f-8a6f-4914-8a76-c3c9eabbc11a",
   "metadata": {},
   "source": [
    "### Flood "
   ]
  },
  {
   "cell_type": "code",
   "execution_count": 7,
   "id": "137aa9f9-f330-4290-a9fe-3570df07ef2a",
   "metadata": {},
   "outputs": [],
   "source": [
    "floodRegion = [ ] # The region we need to flood\n",
    "for indexPixel in range(0, numPoints):        \n",
    "    y, x = (shapeImage[indexPixel])[0], (shapeImage[indexPixel])[1]\n",
    "    if watershed[y,x] == 0:\n",
    "        floodRegion.append((y,x))\n",
    "\n",
    "# Flooding\n",
    "maxDistance, _ = imageMaxMin(distanceImage)\n",
    "for floodValue in range(int(maxDistance), 0, -1):\n",
    "    flooded = True\n",
    "    while flooded:\n",
    "        flooded = False\n",
    "        newFloodRegion = [ ]\n",
    "        growRegion = [ ]\n",
    "        shuffle(floodRegion)\n",
    "        for indexPixel in range(0, len(floodRegion)):\n",
    "            y, x = (floodRegion[indexPixel])[0], (floodRegion[indexPixel])[1]\n",
    "            \n",
    "            # Points not flooded will be considered in following iterations\n",
    "            if distanceImage[y,x] <= floodValue:\n",
    "                newFloodRegion.append((y,x))\n",
    "            else:\n",
    "                n = [ ] #  List of neighbours\n",
    "                for wx,wy in itertools.product(range(-1, 2), range(-1, 2)):        \n",
    "                    posX, posY = x + wx, y+ wy\n",
    "                    if posY > -1 and posY < height and  posX > -1 and posX < width:\n",
    "                        if watershed[posY, posX] != 0:\n",
    "                            n.append(watershed[posY, posX])\n",
    "                 \n",
    "                # No neighbours, so we cannot grow\n",
    "                if(len(n) == 0):\n",
    "                    newFloodRegion.append((y,x))\n",
    "                else:\n",
    "                    # Grow of only one type of region\n",
    "                    if len(set(n)) == 1:\n",
    "                        growRegion.append((y,x,n[0]))\n",
    "                        flooded  = True\n",
    "                        \n",
    "        for pixel in growRegion:   \n",
    "            y, x, idRegion = pixel[0] , pixel[1] , pixel[2] \n",
    "            watershed[y, x] = idRegion\n",
    "       \n",
    "        floodRegion = newFloodRegion"
   ]
  },
  {
   "cell_type": "markdown",
   "id": "638933e6-ea15-4f36-86fc-e7247149bf26",
   "metadata": {},
   "source": [
    "#### Set the borders"
   ]
  },
  {
   "cell_type": "code",
   "execution_count": 8,
   "id": "ef414794-c17a-4bdb-b4f0-6bb59d2897cc",
   "metadata": {},
   "outputs": [],
   "source": [
    "shedID = regionIndex + 1\n",
    "for indexPixel in range(0, numPoints):        \n",
    "    y, x = (shapeImage[indexPixel])[0], (shapeImage[indexPixel])[1]\n",
    "    if watershed[y,x] == 0 and distanceImage[y, x] > 0.5:\n",
    "        watershed[y, x] = shedID   "
   ]
  },
  {
   "cell_type": "markdown",
   "id": "a4ed39a4-adcc-4f10-b7a9-1fb62c1dbb7f",
   "metadata": {},
   "source": [
    "#### Show result"
   ]
  },
  {
   "cell_type": "code",
   "execution_count": 10,
   "id": "b11dd571-7189-456d-bada-b2c80f1f5e8d",
   "metadata": {},
   "outputs": [
    {
     "data": {
      "image/png": "[encoded data removed]",
      "text/plain": [
       "<Figure size 300x300 with 1 Axes>"
      ]
     },
     "metadata": {},
     "output_type": "display_data"
    }
   ],
   "source": [
    "plotImageF(watershed, figureSize = 3)"
   ]
  }
 ],
 "metadata": {
  "kernelspec": {
   "display_name": "Python 3 (ipykernel)",
   "language": "python",
   "name": "python3"
  },
  "language_info": {
   "codemirror_mode": {
    "name": "ipython",
    "version": 3
   },
   "file_extension": ".py",
   "mimetype": "text/x-python",
   "name": "python",
   "nbconvert_exporter": "python",
   "pygments_lexer": "ipython3",
   "version": "3.12.8"
  }
 },
 "nbformat": 4,
 "nbformat_minor": 5
}
