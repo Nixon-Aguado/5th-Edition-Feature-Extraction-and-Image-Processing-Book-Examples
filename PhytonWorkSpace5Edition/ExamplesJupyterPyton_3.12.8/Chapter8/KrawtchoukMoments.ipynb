{
 "cells": [
  {
   "cell_type": "markdown",
   "id": "2eb539e0",
   "metadata": {},
   "source": [
    "# Feature Extraction and Image Processing\n",
    "Mark S. Nixon & Alberto S. Aguado http://www.southampton.ac.uk/~msn/book/\n",
    "### Chapter 8: *KrawtchoukMoments*\n",
    "Compute Krawtchouk moments for a region in an image. \n",
    "Compute moments, moments by using geometric moments and invariant moments \n",
    "***  "
   ]
  },
  {
   "cell_type": "markdown",
   "id": "64cdb2ed",
   "metadata": {},
   "source": [
    "### Setup modules"
   ]
  },
  {
   "cell_type": "code",
   "execution_count": 1,
   "id": "3e8ec376",
   "metadata": {},
   "outputs": [],
   "source": [
    "import os\n",
    "import sys\n",
    "sys.path.append(os.path.join(os.path.dirname(\"__file__\"), \"../../Modules\"))\n",
    "\n",
    "# Set module functions\n",
    "from ImageUtilities import imageReadL, plotImageL,createImageF, scaleImageL\n",
    "from ImageRegionsUtilities import pixlesList, weightedKrawtchoukPolynomials,      \\\n",
    "                                       geometricMoments\n",
    "from PrintUtilities import printImageRangeF\n",
    "from PlotUtilities import plotSurface, plotCurve \n",
    "\n",
    "# Math and iteration\n",
    "from math import  pi, atan, sin, cos, sqrt\n",
    "from timeit import itertools"
   ]
  },
  {
   "cell_type": "markdown",
   "id": "4489d1e9",
   "metadata": {},
   "source": [
    "### Parameters:\n",
    "    pathToDir = Input image directory\n",
    "    imageName = Input image name\n",
    "    p = Polynomial parameter. 0.5 for centralized polynomials. Power\n",
    "    numMoments = Number of moments\n",
    "    background = The gray level range of the background pixels"
   ]
  },
  {
   "cell_type": "code",
   "execution_count": 2,
   "id": "b85bf4f2",
   "metadata": {},
   "outputs": [],
   "source": [
    "pathToDir = os.path.join(os.path.dirname(\"__file__\"), \"../../Images/Chapter8/Input/\")\n",
    "imageName = \"f14.png\"\n",
    "numMoments = 4\n",
    "p = 0.5\n",
    "background = [200, 255] # white background image\n",
    "reducedSize = 80 # reduce the image size to avoid overflowing or use recurrence relations"
   ]
  },
  {
   "cell_type": "markdown",
   "id": "a2c330f4",
   "metadata": {},
   "source": [
    "###  Reduce the image size to avoid large exponents in the computation"
   ]
  },
  {
   "cell_type": "code",
   "execution_count": 3,
   "id": "0b8b8c4a",
   "metadata": {
    "scrolled": true
   },
   "outputs": [
    {
     "data": {
      "image/png": "[encoded data removed]",
      "text/plain": [
       "<Figure size 300x300 with 1 Axes>"
      ]
     },
     "metadata": {},
     "output_type": "display_data"
    }
   ],
   "source": [
    "inputImage, inputWidth, inputHeight = imageReadL(pathToDir+imageName)\n",
    "\n",
    "# Reduce the image size to avoid large exponents in the computation\n",
    "scale = max(max(inputWidth, inputHeight) / float(reducedSize), 1.0)\n",
    "width, height = int(inputWidth/scale), int(inputHeight/scale)\n",
    "scaledImage = scaleImageL(inputImage, width, height)\n",
    "plotImageL(scaledImage, figureSize = 3)\n"
   ]
  },
  {
   "cell_type": "markdown",
   "id": "632c7913-863b-40d2-b89c-d22c6568a5c0",
   "metadata": {},
   "source": [
    "### Get a list that contains the pixels of the shape in the form (y,x,v) "
   ]
  },
  {
   "cell_type": "code",
   "execution_count": 4,
   "id": "f089a178-a005-4175-8d8f-4fdf77783b85",
   "metadata": {},
   "outputs": [],
   "source": [
    "shapeImage = pixlesList(scaledImage, background)\n",
    "numPoints = len(shapeImage)"
   ]
  },
  {
   "cell_type": "markdown",
   "id": "f80e501a-a43c-40c4-afb7-860606ac9928",
   "metadata": {},
   "source": [
    "### Polynomials, coefficients and weights for the Krawtchouk polynomials"
   ]
  },
  {
   "cell_type": "code",
   "execution_count": 5,
   "id": "3d102359-42cc-4173-8f41-e08a4a5780ea",
   "metadata": {},
   "outputs": [],
   "source": [
    "# Considering that A*C = k. For a the coefficients and C the powers x, x^2, x^3,..  \n",
    "N = max(width, height)\n",
    "kW, aW, sigma, ro, w = weightedKrawtchoukPolynomials(p, N)"
   ]
  },
  {
   "cell_type": "markdown",
   "id": "6f610c43-4ffa-4b66-bf88-9cc5c5b9d941",
   "metadata": {},
   "source": [
    "### Krawtchouk moments of the shape  by standard definition"
   ]
  },
  {
   "cell_type": "code",
   "execution_count": 6,
   "id": "3ec2c1a4-c538-49ed-aaa3-50e68a64dd5a",
   "metadata": {},
   "outputs": [
    {
     "name": "stdout",
     "output_type": "stream",
     "text": [
      "\n",
      "\n",
      "[    18.10    -3.98    10.77    -4.53 ]\n",
      "[     6.86     3.83     3.68     2.52 ]\n",
      "[     6.04    -3.63     6.14    -3.82 ]\n",
      "[     6.07    -2.45    -0.17    -0.60 ]\n"
     ]
    }
   ],
   "source": [
    "Q = createImageF(numMoments, numMoments)\n",
    "for m,n in itertools.product(range(0, numMoments), range(0, numMoments)):\n",
    "    for indexPixel in range(0, numPoints):\n",
    "        y, x = (shapeImage[indexPixel])[0], (shapeImage[indexPixel])[1]\n",
    "        v = (shapeImage[indexPixel])[2]  \n",
    "        Q[n,m] += w[x,m] * kW[x,m] * w[y,n] * kW[y,n] * v\n",
    "printImageRangeF(Q, [0,numMoments-1],[0,numMoments-1], \" 8.2f\")"
   ]
  },
  {
   "cell_type": "markdown",
   "id": "b39dbcf7-69db-45d9-aec9-ffbcf8d3f62c",
   "metadata": {},
   "source": [
    "### Krawtchouk moments from the geometric moments Gij = x**i , y**j."
   ]
  },
  {
   "cell_type": "code",
   "execution_count": 7,
   "id": "dadbe126-ea48-4cd2-9f32-065a1e62c1a1",
   "metadata": {},
   "outputs": [
    {
     "name": "stdout",
     "output_type": "stream",
     "text": [
      "\n",
      "\n",
      "[    18.10    -3.98    10.77    -4.53 ]\n",
      "[     6.86     3.83     3.68     2.52 ]\n",
      "[     6.04    -3.63     6.14    -3.82 ]\n",
      "[     6.07    -2.45    -0.17    -0.60 ]\n"
     ]
    }
   ],
   "source": [
    "G = createImageF(N, N)\n",
    "for i,j in itertools.product(range(0, N), range(0, N)):\n",
    "    for indexPixel in range(0, numPoints):\n",
    "        y, x= (shapeImage[indexPixel])[0], (shapeImage[indexPixel])[1]\n",
    "        v = (shapeImage[indexPixel])[2]   \n",
    "        G[j,i] +=  sqrt(sigma[x] * sigma[y]) * y**j * x**i * v\n",
    "\n",
    "Qs = createImageF(numMoments, numMoments) \n",
    "for m,n in itertools.product(range(0, numMoments), range(0, numMoments)):\n",
    "    for i,j in itertools.product(range(0, N), range(0, N)):\n",
    "        Qs[n,m] +=  aW[m,i] * aW[n,j] * G[j,i]\n",
    "\n",
    "    Qs[n,m] *= (1.0 / sqrt(ro[n]*ro[m]))  \n",
    "printImageRangeF(Qs, [0,numMoments-1],[0,numMoments-1], \" 8.2f\")"
   ]
  },
  {
   "cell_type": "markdown",
   "id": "d493286e-6a67-4220-b672-8adced2859e7",
   "metadata": {},
   "source": [
    "### Invariant  Krawtchouk moments by using weighted invariant Geometric moments G(j,i)"
   ]
  },
  {
   "cell_type": "code",
   "execution_count": 8,
   "id": "98ab801d-02de-4eaa-a781-7491126896b8",
   "metadata": {},
   "outputs": [
    {
     "name": "stdout",
     "output_type": "stream",
     "text": [
      "\n",
      "\n",
      "[     0.01     0.06     0.38     1.95 ]\n",
      "[     0.06     0.55     3.42    17.30 ]\n",
      "[     0.38     3.42    21.33   108.06 ]\n",
      "[     1.95    17.30   108.06   547.48 ]\n"
     ]
    }
   ],
   "source": [
    "Qi = createImageF(numMoments, numMoments)\n",
    "M = geometricMoments(shapeImage, 3)\n",
    "\n",
    "xc,yc = M[1,0]/M[0,0], M[0,1]/M[0,0]\n",
    "m11 = M[1,1]/M[0,0] - xc*yc\n",
    "m20 = M[2,0]/M[0,0] - xc**2\n",
    "m02 = M[0,2]/M[0,0] - yc**2\n",
    "    \n",
    "if m20 < m02:  t = -(0.5 * atan(2.0*m11/(m20-m02)) + pi/2.0)\n",
    "else:          t = -(0.5 * atan(2.0*m11/(m20-m02)))\n",
    "\n",
    "# Scale\n",
    "q, n2 = (N*N/2.0)/M[0,0],  N / 2.0\n",
    "\n",
    "Nu = createImageF(N, N)\n",
    "for j,i in itertools.product(range(0, N), range(0, N)):\n",
    "    for indexPixel in range(0, numPoints):\n",
    "        y, x = (shapeImage[indexPixel])[0], (shapeImage[indexPixel])[1], \n",
    "        val  = (shapeImage[indexPixel])[2]  \n",
    "        \n",
    "        # Invariant moments\n",
    "        a =  ((x-xc)*sin(t) + (y-yc) * cos(t))\n",
    "        b =  ((x-xc)*cos(t) - (y-yc) * sin(t))\n",
    "        \n",
    "        # To NxN image       \n",
    "        u =  sqrt(q) * a + n2\n",
    "        v =  sqrt(q) * b + n2\n",
    "       \n",
    "        if int(v) < N and int(u) < N:\n",
    "            Nu[i,j] += a**i * b**j * val * sqrt(sigma[int(v)] * sigma[int(u)]) \n",
    "        \n",
    "    c = 1.0 + ((i + j) / 2.0)    \n",
    "    Nu[i,j] = (Nu[i,j] / pow(M[0,0],c)) \n",
    "    \n",
    "for m,n in itertools.product(range(0, numMoments), range(0, numMoments)):\n",
    "    # Descriptors\n",
    "    for j,i in itertools.product(range(0, N), range(0, N)):\n",
    "        Qi[n,m] +=  Nu[i,j] * aW[m,i] * aW[n,j]\n",
    "        \n",
    "    Qi[n,m] *= (1.0 / sqrt(ro[n]*ro[m]))  \n",
    "\n",
    "printImageRangeF(Qi, [0,numMoments-1],[0,numMoments-1], \" 8.2f\")\n",
    "\n"
   ]
  }
 ],
 "metadata": {
  "kernelspec": {
   "display_name": "Python 3 (ipykernel)",
   "language": "python",
   "name": "python3"
  },
  "language_info": {
   "codemirror_mode": {
    "name": "ipython",
    "version": 3
   },
   "file_extension": ".py",
   "mimetype": "text/x-python",
   "name": "python",
   "nbconvert_exporter": "python",
   "pygments_lexer": "ipython3",
   "version": "3.12.8"
  }
 },
 "nbformat": 4,
 "nbformat_minor": 5
}
