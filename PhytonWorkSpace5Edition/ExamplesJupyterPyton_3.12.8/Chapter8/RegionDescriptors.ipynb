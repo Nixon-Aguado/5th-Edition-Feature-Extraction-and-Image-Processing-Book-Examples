{
 "cells": [
  {
   "cell_type": "markdown",
   "id": "2eb539e0",
   "metadata": {},
   "source": [
    "# Feature Extraction and Image Processing\n",
    "Mark S. Nixon & Alberto S. Aguado http://www.southampton.ac.uk/~msn/book/\n",
    "### Chapter 8: *RegionDescriptors*\n",
    "Compute basic region descriptors of a shape in an image\n",
    "***  "
   ]
  },
  {
   "cell_type": "markdown",
   "id": "64cdb2ed",
   "metadata": {},
   "source": [
    "### Setup modules"
   ]
  },
  {
   "cell_type": "code",
   "execution_count": 1,
   "id": "3e8ec376",
   "metadata": {},
   "outputs": [],
   "source": [
    "import os\n",
    "import sys\n",
    "sys.path.append(os.path.join(os.path.dirname(\"__file__\"), \"../../Modules\"))\n",
    "\n",
    "# Module functions\n",
    "from ImageUtilities import imageReadL, plotImageL\n",
    "from PrintUtilities import printText\n",
    "from ImageRegionsUtilities import findLongesSegmentinImage\n",
    "\n",
    "# Math and iteration\n",
    "from math import pi, sqrt\n",
    "from timeit import itertools"
   ]
  },
  {
   "cell_type": "markdown",
   "id": "4489d1e9",
   "metadata": {},
   "source": [
    "### Parameters:\n",
    "    pathToDir = Input image directory\n",
    "    imageName = Input image name\n",
    "    gaussianKernelSize = Gaussian kernel size. Filter noise\n",
    "    sobelKernelSize = Sobel kernel size. Edge detection\n",
    "    upperT = Upper threshold\n",
    "    lowerT = Lower threshold"
   ]
  },
  {
   "cell_type": "code",
   "execution_count": 2,
   "id": "b85bf4f2",
   "metadata": {},
   "outputs": [],
   "source": [
    "pathToDir = os.path.join(os.path.dirname(\"__file__\"), \"../../Images/Chapter8/Input/\")\n",
    "imageName = \"ConvShape.png\"\n",
    "gaussianKernelSize = 5\n",
    "sobelKernelSize = 3\n",
    "upperT = 0.3\n",
    "lowerT = 0.05"
   ]
  },
  {
   "cell_type": "markdown",
   "id": "a2c330f4",
   "metadata": {},
   "source": [
    "### Show input image"
   ]
  },
  {
   "cell_type": "code",
   "execution_count": 3,
   "id": "0b8b8c4a",
   "metadata": {
    "scrolled": true
   },
   "outputs": [
    {
     "data": {
      "image/png": "[encoded data removed]",
      "text/plain": [
       "<Figure size 300x300 with 1 Axes>"
      ]
     },
     "metadata": {},
     "output_type": "display_data"
    }
   ],
   "source": [
    "inputImage, width, height = imageReadL(pathToDir+imageName)\n",
    "plotImageL(inputImage, figureSize = 3)"
   ]
  },
  {
   "cell_type": "markdown",
   "id": "6e4c3713-3ab2-44b7-86eb-a8bc5975d514",
   "metadata": {},
   "source": [
    "### Area. Assume the image with pixel value different to zero define the regions"
   ]
  },
  {
   "cell_type": "code",
   "execution_count": 4,
   "id": "de98cbef-ef0f-4c99-b970-d4c4c9ddf108",
   "metadata": {},
   "outputs": [],
   "source": [
    "area = 0\n",
    "for x,y in itertools.product(range(0, width), range(0, height)):\n",
    "        if inputImage[y,x] != 0 : \n",
    "            area += 1"
   ]
  },
  {
   "cell_type": "markdown",
   "id": "c8d7cc96-63b4-47ae-baf2-4b25c16ceac5",
   "metadata": {},
   "source": [
    "### Obtain shape contour"
   ]
  },
  {
   "cell_type": "code",
   "execution_count": 5,
   "id": "b427ec1a-d3b0-4798-a135-566ad368de14",
   "metadata": {},
   "outputs": [],
   "source": [
    "shape, width, height = findLongesSegmentinImage(pathToDir + imageName,   \\\n",
    "                                                 gaussianKernelSize, sobelKernelSize, upperT, lowerT)"
   ]
  },
  {
   "cell_type": "markdown",
   "id": "6800fbeb-5eea-4517-a9fc-2c8b7c4a4b33",
   "metadata": {},
   "source": [
    "### Perimeter and mean. The mean is the contour centre. The perimeter is the arc length"
   ]
  },
  {
   "cell_type": "code",
   "execution_count": 6,
   "id": "80d7f65f-90ca-4885-a9c3-14e1b2c8e517",
   "metadata": {},
   "outputs": [],
   "source": [
    "numPoints = len(shape[0]) \n",
    "mean = [0,0]\n",
    "perimeter = 0.0\n",
    "y0, x0 = shape[0, numPoints-1], shape[1, numPoints-1]\n",
    "for p in range(0, numPoints):\n",
    "    y,x = shape[0,p], shape[1,p]\n",
    "    mean[0], mean[1] =  mean[0]+x, mean[1]+y\n",
    "    perimeter += sqrt((y-y0)*(y-y0) + (x-x0)*(x-x0))\n",
    "    y0,x0 = y,x\n",
    "mean[0],mean[1] = mean[0]/numPoints, mean[1]/numPoints  "
   ]
  },
  {
   "cell_type": "markdown",
   "id": "f6076d73-6071-48ad-a7ec-8080e531c5a0",
   "metadata": {},
   "source": [
    "### Compactness "
   ]
  },
  {
   "cell_type": "code",
   "execution_count": 7,
   "id": "5e5230eb-4cde-4adc-940f-48d1779b8298",
   "metadata": {},
   "outputs": [],
   "source": [
    "compactness = 4.0*pi*area/(perimeter*perimeter);"
   ]
  },
  {
   "cell_type": "markdown",
   "id": "dc0ba115-29ed-476a-81c6-cc070fa1c3b2",
   "metadata": {},
   "source": [
    "### Dispersion"
   ]
  },
  {
   "cell_type": "code",
   "execution_count": 8,
   "id": "598c4b82-47f2-4755-af26-9f7c05d45e5a",
   "metadata": {},
   "outputs": [],
   "source": [
    "maxDist, minDist = 0, float('Inf')\n",
    "for p in range(0, numPoints):\n",
    "    y,x = shape[0,p], shape[1,p]\n",
    "    d = sqrt((x-mean[0])**2 + (y-mean[1])**2)\n",
    "    if d >maxDist:  \n",
    "        maxDist = d \n",
    "    if d <minDist:  \n",
    "        minDist = d \n",
    "        \n",
    "dispersion = pi*maxDist*maxDist/area\n",
    "dispertionRatio = sqrt(maxDist/minDist)"
   ]
  },
  {
   "cell_type": "markdown",
   "id": "8cf6f340-0f92-49d5-a562-ebe07adacde7",
   "metadata": {},
   "source": [
    "### Print results"
   ]
  },
  {
   "cell_type": "code",
   "execution_count": 9,
   "id": "f34167b2-7bf2-408f-993b-3978db200513",
   "metadata": {},
   "outputs": [
    {
     "name": "stdout",
     "output_type": "stream",
     "text": [
      "Area = 245635\n",
      "Mean = 303.15, 288.87\n",
      "Perimeter = 2587.24\n",
      "Compactness = 0.46\n",
      "Dispertion = 0.82\n",
      "DispertionRatio = 2.26\n"
     ]
    }
   ],
   "source": [
    "printText(\"Area = \" + str(area))\n",
    "printText(\"Mean = \" + '%.2f' % mean[0] + \", \" + '%.2f' % mean[1])\n",
    "printText(\"Perimeter = \" + '%.2f' % perimeter)\n",
    "printText(\"Compactness = \" + '%.2f' % compactness)\n",
    "printText(\"Dispertion = \" + '%.2f' % dispersion)\n",
    "printText(\"DispertionRatio = \" + '%.2f' % dispertionRatio)"
   ]
  }
 ],
 "metadata": {
  "kernelspec": {
   "display_name": "Python 3 (ipykernel)",
   "language": "python",
   "name": "python3"
  },
  "language_info": {
   "codemirror_mode": {
    "name": "ipython",
    "version": 3
   },
   "file_extension": ".py",
   "mimetype": "text/x-python",
   "name": "python",
   "nbconvert_exporter": "python",
   "pygments_lexer": "ipython3",
   "version": "3.12.8"
  }
 },
 "nbformat": 4,
 "nbformat_minor": 5
}
