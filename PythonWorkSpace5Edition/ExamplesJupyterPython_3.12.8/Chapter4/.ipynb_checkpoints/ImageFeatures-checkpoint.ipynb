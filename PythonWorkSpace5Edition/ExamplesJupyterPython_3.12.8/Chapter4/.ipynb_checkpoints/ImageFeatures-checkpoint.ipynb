{
 "cells": [
  {
   "cell_type": "markdown",
   "id": "2eb539e0",
   "metadata": {},
   "source": [
    "# Feature Extraction and Image Processing\n",
    "Mark S. Nixon & Alberto S. Aguado http://www.southampton.ac.uk/~msn/book/\n",
    "### Chapter 4: *ImageFeature*\n",
    "Show feature vectors\n",
    "***  "
   ]
  },
  {
   "cell_type": "markdown",
   "id": "64cdb2ed",
   "metadata": {},
   "source": [
    "### Setup modules"
   ]
  },
  {
   "cell_type": "code",
   "execution_count": 1,
   "id": "3e8ec376",
   "metadata": {},
   "outputs": [],
   "source": [
    "import os\n",
    "import sys\n",
    "sys.path.append(os.path.join(os.path.dirname(\"__file__\"), \"../../Modules\"))\n",
    "\n",
    "# Tensor flow\n",
    "import tensorflow as tf\n",
    "from tensorflow.keras import models, layers\n",
    "from tensorflow.keras.utils import plot_model\n",
    "\n",
    "# For load data\n",
    "import pickle\n",
    "\n",
    "# Module functions\n",
    "from ImageUtilities import imageReadL, plotImageL, plotImageF"
   ]
  },
  {
   "cell_type": "markdown",
   "id": "97d100d1-74c9-4174-83f4-53627ad8cb1d",
   "metadata": {},
   "source": [
    "### Parameters:\n",
    "    pathToDir = Directory to store data\n",
    "    dataSetFileName = Name of the data file"
   ]
  },
  {
   "cell_type": "code",
   "execution_count": 2,
   "id": "3f0e8371-a65c-4273-9cdb-0a23dd2f7df8",
   "metadata": {},
   "outputs": [],
   "source": [
    "pathToDir = os.path.join(os.path.dirname(\"__file__\"), \"../../Images/Chapter4/Input/\")\n",
    "dataSetFileName = \"ShapesData.pickle\""
   ]
  },
  {
   "cell_type": "markdown",
   "id": "f16c9cbf-c8de-4b20-853d-0fd80952bac9",
   "metadata": {},
   "source": [
    "### Set dataset"
   ]
  },
  {
   "cell_type": "raw",
   "id": "91f917cc-dfac-458b-a498-12e10242dc86",
   "metadata": {},
   "source": [
    "dataset = tf.keras.datasets.mnist\n",
    "(trainImages, trainLabels),(testImages, testLabels) = dataset.load_data()\n",
    "\n",
    "print(trainImages.shape, trainLabels.shape, testImages.shape, testLabels.shape)\n",
    "\n",
    "trainImages = trainImages/255.0\n",
    "testImages = testImages/255.0\n",
    "trainLabels= tf.keras.utils.to_categorical(trainLabels)\n",
    "testLabels= tf.keras.utils.to_categorical(testLabels)\n",
    "\n",
    "# Number of classes\n",
    "print(trainLabels.shape[1])"
   ]
  },
  {
   "cell_type": "code",
   "execution_count": 3,
   "id": "b3ae0e47-d3b3-43c2-9ee3-3e5cdc755502",
   "metadata": {},
   "outputs": [
    {
     "name": "stdout",
     "output_type": "stream",
     "text": [
      "(1500, 28, 28) (1500,) (150, 28, 28) (150,)\n",
      "1500\n",
      "3\n"
     ]
    }
   ],
   "source": [
    "with open(pathToDir+dataSetFileName, 'rb') as f:\n",
    "     data = pickle.load(f)\n",
    "\n",
    "trainImages, trainLabels, testImages, testLabels = data \n",
    "\n",
    "print(trainImages.shape, trainLabels.shape, testImages.shape, testLabels.shape)\n",
    "print(trainLabels.shape[0])\n",
    "\n",
    "trainLabels= tf.keras.utils.to_categorical(trainLabels)\n",
    "testLabels= tf.keras.utils.to_categorical(testLabels)\n",
    "\n",
    "# Number of classes\n",
    "print(trainLabels.shape[1])"
   ]
  },
  {
   "cell_type": "markdown",
   "id": "bba802d7-e128-430f-bcc6-8450baa5f2d2",
   "metadata": {},
   "source": [
    "### Show an image"
   ]
  },
  {
   "cell_type": "code",
   "execution_count": 4,
   "id": "d958794c-3c82-4a15-8b18-e5d18baa999e",
   "metadata": {},
   "outputs": [
    {
     "data": {
      "image/png": "[encoded data removed]",
      "text/plain": [
       "<Figure size 400x400 with 1 Axes>"
      ]
     },
     "metadata": {},
     "output_type": "display_data"
    }
   ],
   "source": [
    "plotImageF(trainImages[1], figureSize = 4)"
   ]
  },
  {
   "cell_type": "markdown",
   "id": "415fa779-2767-4a0f-85a9-90b7a84d2eae",
   "metadata": {},
   "source": [
    "### Build the model"
   ]
  },
  {
   "cell_type": "code",
   "execution_count": 5,
   "id": "227f4fd6-f38b-4365-bdc5-1a8c37654e67",
   "metadata": {},
   "outputs": [],
   "source": [
    "model = tf.keras.Sequential()\n",
    "model.add(tf.keras.Input(shape=(28,28,1)))\n",
    "model.add(layers.Conv2D(6,(3,3),activation='relu')) \n",
    "model.add(layers.MaxPooling2D(pool_size=(2,2)))\n",
    "model.add(layers.Conv2D(10,(3,3),activation='relu'))\n",
    "model.add(layers.MaxPooling2D(pool_size=(2,2)))\n",
    "model.add(layers.Flatten())\n",
    "model.add(layers.Dense(128, activation='relu'))\n",
    "model.add(layers.Dense(100, activation='relu'))\n",
    "model.add(layers.Dense(80, activation='relu'))\n",
    "model.add(layers.Dense(trainLabels.shape[1], activation='softmax'))\n"
   ]
  }
 ],
 "metadata": {
  "kernelspec": {
   "display_name": "Python 3 (ipykernel)",
   "language": "python",
   "name": "python3"
  },
  "language_info": {
   "codemirror_mode": {
    "name": "ipython",
    "version": 3
   },
   "file_extension": ".py",
   "mimetype": "text/x-python",
   "name": "python",
   "nbconvert_exporter": "python",
   "pygments_lexer": "ipython3",
   "version": "3.11.9"
  }
 },
 "nbformat": 4,
 "nbformat_minor": 5
}
