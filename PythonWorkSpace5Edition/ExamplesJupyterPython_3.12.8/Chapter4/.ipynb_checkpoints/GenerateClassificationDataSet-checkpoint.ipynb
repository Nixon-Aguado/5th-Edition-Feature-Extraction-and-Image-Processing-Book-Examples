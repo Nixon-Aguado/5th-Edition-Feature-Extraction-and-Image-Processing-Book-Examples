{
 "cells": [
  {
   "cell_type": "markdown",
   "id": "0cf76808-ea06-4106-b03f-8dcded2d7077",
   "metadata": {},
   "source": [
    "# Feature Extraction and Image Processing\n",
    "Mark S. Nixon & Alberto S. Aguado http://www.southampton.ac.uk/~msn/book/\n",
    "### Chapter 4: *GenerateClassificationDataSet*\n",
    "Generate an image set for image classification\n",
    "***  "
   ]
  },
  {
   "cell_type": "markdown",
   "id": "64cdb2ed",
   "metadata": {},
   "source": [
    "### Setup modules"
   ]
  },
  {
   "cell_type": "code",
   "execution_count": 1,
   "id": "3e8ec376",
   "metadata": {},
   "outputs": [],
   "source": [
    "import os\n",
    "import sys\n",
    "sys.path.append(os.path.join(os.path.dirname(\"__file__\"), \"../../Modules\"))\n",
    "\n",
    "# Module functions\n",
    "from ImageUtilities import plotImageF\n",
    "\n",
    "# Generate sysntetic data functions\n",
    "from SyntheticImagesUtilities import createLineImages,  createCurveImages, createCircleImages\n",
    "\n",
    "# In tensor flow images are numpy arrays\n",
    "import numpy as np\n",
    "\n",
    "# For save data\n",
    "import pickle\n",
    "\n",
    "# Iteration and Maths\n",
    "from random import randint"
   ]
  },
  {
   "cell_type": "markdown",
   "id": "b892305a-64ca-407f-9096-99f27de9a203",
   "metadata": {},
   "source": [
    "### Parameters:\n",
    "    pathToDir = Directory to store data\n",
    "    imageSize = Image size\n",
    "    noiseKernelSize = Size of noise filter\n",
    "    \n",
    "    lineLengthMin, lineLengthMax = Size of line shape\n",
    "    curveLengthMin, curveLengthMax = Size of curve shape\n",
    "    radiousMin, radiousMax = Size of circle shape\n",
    "\n",
    "    numTrainImages = Number of train images per shape in the training set\n",
    "    numTestImages = Number of test images per shape in the test set\n",
    "\n",
    "    dataSetFileName = Name of the data file"
   ]
  },
  {
   "cell_type": "code",
   "execution_count": 2,
   "id": "313d09a8-7ca7-4657-946c-d4033f18a406",
   "metadata": {},
   "outputs": [],
   "source": [
    "pathToDir = os.path.join(os.path.dirname(\"__file__\"), \"../../Images/Chapter4/Input/\")\n",
    "\n",
    "imageSize = 32 \n",
    "noiseKernelSize = 3\n",
    "\n",
    "lineLengthMin = 19 \n",
    "lineLengthMax = 24 \n",
    "\n",
    "curveLengthMin = 18 \n",
    "curveLengthMax = 24 \n",
    "\n",
    "radiousMin = 7 \n",
    "radiousMax = 10 \n",
    "\n",
    "numTrainImages = 400\n",
    "numTestImages = 40\n",
    "dataSetFileName = \"ShapesClassificationData.pickle\""
   ]
  },
  {
   "cell_type": "markdown",
   "id": "c818b4e8-1a27-45a4-b8d5-15a30a800cc8",
   "metadata": {},
   "source": [
    "### Function to randomize data"
   ]
  },
  {
   "cell_type": "code",
   "execution_count": 3,
   "id": "4a8637bc-7117-4304-a9f8-604386bcfc1c",
   "metadata": {},
   "outputs": [],
   "source": [
    "def SuffleImages(trainImagesSet):\n",
    "    images = []\n",
    "    labels = []\n",
    "    \n",
    "    while len(trainImagesSet) != 0:\n",
    "        selectClass = randint(0, len(trainImagesSet)-1)\n",
    "    \n",
    "        image = trainImagesSet[selectClass][0].pop(0)\n",
    "    \n",
    "        images.append(image)\n",
    "        labels.append(trainImagesSet[selectClass][1])\n",
    "        \n",
    "        if len(trainImagesSet[selectClass][0]) == 0:\n",
    "            trainImagesSet.pop(selectClass)\n",
    "            \n",
    "    return images, labels"
   ]
  },
  {
   "cell_type": "markdown",
   "id": "a5bf4ef1-0fed-441f-83c5-4d86221a58ae",
   "metadata": {},
   "source": [
    "### Create and save dataset"
   ]
  },
  {
   "cell_type": "code",
   "execution_count": 4,
   "id": "0363827e-47ce-4eb6-ba22-7bbbf222cb95",
   "metadata": {},
   "outputs": [],
   "source": [
    "trainLineImages, testLineImages = createLineImages(numTrainImages, numTestImages, lineLengthMin, lineLengthMax, imageSize, noiseKernelSize)\n",
    "trainCurveImages, testCurveImages = createCurveImages(numTrainImages, numTestImages, curveLengthMin, curveLengthMax, imageSize, noiseKernelSize)\n",
    "trainCircleImages, testCircleImages = createCircleImages(numTrainImages, numTestImages, radiousMin, radiousMax, imageSize, noiseKernelSize)\n",
    "\n",
    "# Suffle\n",
    "trainImages = []\n",
    "trainLabels = []\n",
    "testImages = []\n",
    "testLabels = []\n",
    "\n",
    "trainImages, trainLabels=  SuffleImages([(trainLineImages,0), (trainCurveImages,1), (trainCircleImages,2)])\n",
    "testImages, testLabels=  SuffleImages([(testLineImages,0), (testCurveImages,1), (testCircleImages,2)])\n",
    "\n",
    "# Save\n",
    "data = (np.array(trainImages), np.array(trainLabels), np.array(testImages), np.array(testLabels))\n",
    "with open(pathToDir+dataSetFileName, 'wb') as f:\n",
    "    pickle.dump(data, f)"
   ]
  },
  {
   "cell_type": "markdown",
   "id": "f721ec1f-4871-4918-b673-393a6ee6aac7",
   "metadata": {},
   "source": [
    "### Load and show images"
   ]
  },
  {
   "cell_type": "code",
   "execution_count": 5,
   "id": "97a77279-0069-4e68-84ec-01c2486dd578",
   "metadata": {},
   "outputs": [
    {
     "name": "stdout",
     "output_type": "stream",
     "text": [
      "(1200, 32, 32) (1200,) (120, 32, 32) (120,)\n"
     ]
    },
    {
     "data": {
      "image/png": "[encoded data removed]",
      "text/plain": [
       "<Figure size 200x200 with 1 Axes>"
      ]
     },
     "metadata": {},
     "output_type": "display_data"
    },
    {
     "data": {
      "image/png": "[encoded data removed]",
      "text/plain": [
       "<Figure size 200x200 with 1 Axes>"
      ]
     },
     "metadata": {},
     "output_type": "display_data"
    },
    {
     "data": {
      "image/png": "[encoded data removed]",
      "text/plain": [
       "<Figure size 200x200 with 1 Axes>"
      ]
     },
     "metadata": {},
     "output_type": "display_data"
    },
    {
     "data": {
      "image/png": "[encoded data removed]",
      "text/plain": [
       "<Figure size 200x200 with 1 Axes>"
      ]
     },
     "metadata": {},
     "output_type": "display_data"
    }
   ],
   "source": [
    "with open(pathToDir+dataSetFileName, 'rb') as f:\n",
    "     data = pickle.load(f)\n",
    "\n",
    "trainImages, trainLabels, testImages, testLabels = data \n",
    "\n",
    "print(trainImages.shape, trainLabels.shape, testImages.shape, testLabels.shape)\n",
    "\n",
    "plotImageF(trainImages[1], figureSize = 2)\n",
    "plotImageF(testImages[1], figureSize = 2)\n",
    "\n",
    "plotImageF(trainImages[5], figureSize = 2)\n",
    "plotImageF(testImages[5], figureSize = 2)"
   ]
  }
 ],
 "metadata": {
  "kernelspec": {
   "display_name": "Python 3 (ipykernel)",
   "language": "python",
   "name": "python3"
  },
  "language_info": {
   "codemirror_mode": {
    "name": "ipython",
    "version": 3
   },
   "file_extension": ".py",
   "mimetype": "text/x-python",
   "name": "python",
   "nbconvert_exporter": "python",
   "pygments_lexer": "ipython3",
   "version": "3.12.8"
  }
 },
 "nbformat": 4,
 "nbformat_minor": 5
}
