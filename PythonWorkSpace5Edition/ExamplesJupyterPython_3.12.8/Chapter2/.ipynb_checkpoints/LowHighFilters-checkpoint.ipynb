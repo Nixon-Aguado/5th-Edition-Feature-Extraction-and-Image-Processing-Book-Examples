{
 "cells": [
  {
   "cell_type": "markdown",
   "id": "d148250b",
   "metadata": {},
   "source": [
    "# Feature Extraction and Image Processing\n",
    "Mark S. Nixon & Alberto S. Aguado http://www.southampton.ac.uk/~msn/book/\n",
    "### Chapter 2: *LowHighFilters*\n",
    "Filter an image in frequency domain\n",
    "***  "
   ]
  },
  {
   "cell_type": "markdown",
   "id": "3c874163",
   "metadata": {},
   "source": [
    "### Setup modules"
   ]
  },
  {
   "cell_type": "code",
   "execution_count": 1,
   "id": "b9ca7653",
   "metadata": {},
   "outputs": [],
   "source": [
    "import os\n",
    "import sys\n",
    "sys.path.append(os.path.join(os.path.dirname(\"__file__\"), \"../../Modules\"))\n",
    "\n",
    "from ImageUtilities import imageReadL, plotImageL, createImageF, plotImageF\n",
    "from FourierUtilities import computeCoefficients, computePowerfromCoefficients, reconstruction\n",
    "from ImageOperatorsUtilities import imageLogF\n",
    "\n",
    "# Math functions and iteration\n",
    "from math import sqrt\n",
    "from timeit import itertools"
   ]
  },
  {
   "cell_type": "markdown",
   "id": "4068d488",
   "metadata": {},
   "source": [
    "### Read and show input image"
   ]
  },
  {
   "cell_type": "code",
   "execution_count": null,
   "id": "54379e6e",
   "metadata": {},
   "outputs": [],
   "source": [
    "imageName = \"Giraffe.png\"\n",
    "pathToDir = os.path.join(os.path.dirname(\"__file__\"), \"../../Images/Chapter2/Input/\")\n",
    "inputImage, width, height  = imageReadL(pathToDir + imageName)\n",
    "plotImageL(inputImage, figureSize = 3)"
   ]
  },
  {
   "cell_type": "markdown",
   "id": "00ef3a8b",
   "metadata": {},
   "source": [
    "### Compute Coefficients"
   ]
  },
  {
   "cell_type": "code",
   "execution_count": 6,
   "id": "f0d91b60",
   "metadata": {},
   "outputs": [
    {
     "name": "stdout",
     "output_type": "stream",
     "text": [
      "0 / 80  .. 1 / 80  .. 2 / 80  .. 3 / 80  .. 4 / 80  .. 5 / 80  .. 6 / 80  .. 7 / 80  .. 8 / 80  .. 9 / 80  .. 10 / 80  .. 11 / 80  .. 12 / 80  .. 13 / 80  .. 14 / 80  .. 15 / 80  .. 16 / 80  .. 17 / 80  .. 18 / 80  .. 19 / 80  .. 20 / 80  .. 21 / 80  .. 22 / 80  .. 23 / 80  .. 24 / 80  .. 25 / 80  .. 26 / 80  .. 27 / 80  .. 28 / 80  .. 29 / 80  .. 30 / 80  .. 31 / 80  .. 32 / 80  .. 33 / 80  .. 34 / 80  .. 35 / 80  .. 36 / 80  .. 37 / 80  .. 38 / 80  .. 39 / 80  .. 40 / 80  .. 41 / 80  .. 42 / 80  .. 43 / 80  .. 44 / 80  .. 45 / 80  .. 46 / 80  .. 47 / 80  .. 48 / 80  .. 49 / 80  .. 50 / 80  .. 51 / 80  .. 52 / 80  .. 53 / 80  .. 54 / 80  .. 55 / 80  .. 56 / 80  .. 57 / 80  .. 58 / 80  .. 59 / 80  .. 60 / 80  .. 61 / 80  .. 62 / 80  .. 63 / 80  .. 64 / 80  .. 65 / 80  .. 66 / 80  .. 67 / 80  .. 68 / 80  .. 69 / 80  .. 70 / 80  .. 71 / 80  .. 72 / 80  .. 73 / 80  .. 74 / 80  .. 75 / 80  .. 76 / 80  .. 77 / 80  .. 78 / 80  .. 79 / 80  .. 80 / 80  .. "
     ]
    }
   ],
   "source": [
    "coeff, maxFreqW, maxFreqH = computeCoefficients(inputImage)"
   ]
  },
  {
   "cell_type": "markdown",
   "id": "91a033c9",
   "metadata": {},
   "source": [
    "### Filter to get low and high frequency versions"
   ]
  },
  {
   "cell_type": "code",
   "execution_count": 7,
   "id": "a0da037f",
   "metadata": {},
   "outputs": [],
   "source": [
    "coeffLow = createImageF( 1 + 2 * maxFreqW, 1 + 2 * maxFreqH, 2)\n",
    "coeffHigh = createImageF( 1 + 2 * maxFreqW, 1 + 2 * maxFreqH, 2)\n",
    "\n",
    "cutFrequency = maxFreqW / 8\n",
    "\n",
    "for kw,kh in itertools.product(range(-maxFreqW, maxFreqW + 1),        \\\n",
    "                               range(-maxFreqH, maxFreqH + 1)):   \n",
    "    IndexW, indexH = kw + maxFreqW, kh + maxFreqH\n",
    "    \n",
    "    if sqrt(kw * kw + kh * kh) < cutFrequency:\n",
    "        coeffLow[indexH, IndexW][0] = coeff[indexH, IndexW][0]\n",
    "        coeffLow[indexH, IndexW][1] = coeff[indexH, IndexW][1]\n",
    "    else:\n",
    "        coeffHigh[indexH, IndexW][0] = coeff[indexH, IndexW][0]\n",
    "        coeffHigh[indexH, IndexW][1] = coeff[indexH, IndexW][1]\n",
    "            "
   ]
  },
  {
   "cell_type": "markdown",
   "id": "eec72ff9",
   "metadata": {},
   "source": [
    "### Show frequency power"
   ]
  },
  {
   "cell_type": "code",
   "execution_count": 9,
   "id": "36932dc6",
   "metadata": {},
   "outputs": [
    {
     "name": "stdout",
     "output_type": "stream",
     "text": [
      "0 / 80  .. 1 / 80  .. 2 / 80  .. 3 / 80  .. 4 / 80  .. 5 / 80  .. 6 / 80  .. 7 / 80  .. 8 / 80  .. 9 / 80  .. 10 / 80  .. 11 / 80  .. 12 / 80  .. 13 / 80  .. 14 / 80  .. 15 / 80  .. 16 / 80  .. 17 / 80  .. 18 / 80  .. 19 / 80  .. 20 / 80  .. 21 / 80  .. 22 / 80  .. 23 / 80  .. 24 / 80  .. 25 / 80  .. 26 / 80  .. 27 / 80  .. 28 / 80  .. 29 / 80  .. 30 / 80  .. 31 / 80  .. 32 / 80  .. 33 / 80  .. 34 / 80  .. 35 / 80  .. 36 / 80  .. 37 / 80  .. 38 / 80  .. 39 / 80  .. 40 / 80  .. 41 / 80  .. 42 / 80  .. 43 / 80  .. 44 / 80  .. 45 / 80  .. 46 / 80  .. 47 / 80  .. 48 / 80  .. 49 / 80  .. 50 / 80  .. 51 / 80  .. 52 / 80  .. 53 / 80  .. 54 / 80  .. 55 / 80  .. 56 / 80  .. 57 / 80  .. 58 / 80  .. 59 / 80  .. 60 / 80  .. 61 / 80  .. 62 / 80  .. 63 / 80  .. 64 / 80  .. 65 / 80  .. 66 / 80  .. 67 / 80  .. 68 / 80  .. 69 / 80  .. 70 / 80  .. 71 / 80  .. 72 / 80  .. 73 / 80  .. 74 / 80  .. 75 / 80  .. 76 / 80  .. 77 / 80  .. 78 / 80  .. 79 / 80  .. 80 / 80  .. 0 / 80  .. 1 / 80  .. 2 / 80  .. 3 / 80  .. 4 / 80  .. 5 / 80  .. 6 / 80  .. 7 / 80  .. 8 / 80  .. 9 / 80  .. 10 / 80  .. 11 / 80  .. 12 / 80  .. 13 / 80  .. 14 / 80  .. 15 / 80  .. 16 / 80  .. 17 / 80  .. 18 / 80  .. 19 / 80  .. 20 / 80  .. 21 / 80  .. 22 / 80  .. 23 / 80  .. 24 / 80  .. 25 / 80  .. 26 / 80  .. 27 / 80  .. 28 / 80  .. 29 / 80  .. 30 / 80  .. 31 / 80  .. 32 / 80  .. 33 / 80  .. 34 / 80  .. 35 / 80  .. 36 / 80  .. 37 / 80  .. 38 / 80  .. 39 / 80  .. 40 / 80  .. 41 / 80  .. 42 / 80  .. 43 / 80  .. 44 / 80  .. 45 / 80  .. 46 / 80  .. 47 / 80  .. 48 / 80  .. 49 / 80  .. 50 / 80  .. 51 / 80  .. 52 / 80  .. 53 / 80  .. 54 / 80  .. 55 / 80  .. 56 / 80  .. 57 / 80  .. 58 / 80  .. 59 / 80  .. 60 / 80  .. 61 / 80  .. 62 / 80  .. 63 / 80  .. 64 / 80  .. 65 / 80  .. 66 / 80  .. 67 / 80  .. 68 / 80  .. 69 / 80  .. 70 / 80  .. 71 / 80  .. 72 / 80  .. 73 / 80  .. 74 / 80  .. 75 / 80  .. 76 / 80  .. 77 / 80  .. 78 / 80  .. 79 / 80  .. 80 / 80  .. "
     ]
    },
    {
     "data": {
      "image/png": "[encoded data removed]",
      "text/plain": [
       "<Figure size 500x500 with 1 Axes>"
      ]
     },
     "metadata": {},
     "output_type": "display_data"
    },
    {
     "data": {
      "image/png": "[encoded data removed]",
      "text/plain": [
       "<Figure size 500x500 with 1 Axes>"
      ]
     },
     "metadata": {},
     "output_type": "display_data"
    }
   ],
   "source": [
    "# Power\n",
    "powerLow = computePowerfromCoefficients(coeffLow)\n",
    "powerHigh = computePowerfromCoefficients(coeffHigh)\n",
    "\n",
    "# Show power\n",
    "powerLowLog = imageLogF(powerLow)\n",
    "powerHighLog = imageLogF(powerHigh)\n",
    "plotImageF(powerLowLog, figureSize = 4)\n",
    "plotImageF(powerHighLog, figureSize = 4)"
   ]
  },
  {
   "cell_type": "markdown",
   "id": "c618aff5",
   "metadata": {},
   "source": [
    "### Reconstruct images with high and low frequencies"
   ]
  },
  {
   "cell_type": "code",
   "execution_count": null,
   "id": "e6ccb4bc",
   "metadata": {
    "scrolled": true
   },
   "outputs": [
    {
     "name": "stdout",
     "output_type": "stream",
     "text": [
      "0 / 79  .. 1 / 79  .. 2 / 79  .. 3 / 79  .. 4 / 79  .. 5 / 79  .. 6 / 79  .. 7 / 79  .. 8 / 79  .. 9 / 79  .. 10 / 79  .. 11 / 79  .. 12 / 79  .. 13 / 79  .. 14 / 79  .. 15 / 79  .. 16 / 79  .. 17 / 79  .. 18 / 79  .. 19 / 79  .. 20 / 79  .. 21 / 79  .. 22 / 79  .. 23 / 79  .. 24 / 79  .. 25 / 79  .. 26 / 79  .. 27 / 79  .. 28 / 79  .. 29 / 79  .. 30 / 79  .. 31 / 79  .. 32 / 79  .. 33 / 79  .. 34 / 79  .. 35 / 79  .. 36 / 79  .. 37 / 79  .. 38 / 79  .. 39 / 79  .. 40 / 79  .. 41 / 79  .. 42 / 79  .. 43 / 79  .. 44 / 79  .. 45 / 79  .. 46 / 79  .. 47 / 79  .. 48 / 79  .. "
     ]
    }
   ],
   "source": [
    "# Reconstruct image\n",
    "imageLow = reconstruction(coeffLow)\n",
    "imageHigh = reconstruction(coeffHigh)"
   ]
  },
  {
   "cell_type": "markdown",
   "id": "87119d14",
   "metadata": {},
   "source": [
    "### Show reconstructed images"
   ]
  },
  {
   "cell_type": "code",
   "execution_count": null,
   "id": "a7bd608f",
   "metadata": {},
   "outputs": [],
   "source": [
    "showImageF(imageLow, figureSize = 3)\n",
    "showImageF(imageHigh, figureSize = 3)"
   ]
  }
 ],
 "metadata": {
  "kernelspec": {
   "display_name": "Python 3 (ipykernel)",
   "language": "python",
   "name": "python3"
  },
  "language_info": {
   "codemirror_mode": {
    "name": "ipython",
    "version": 3
   },
   "file_extension": ".py",
   "mimetype": "text/x-python",
   "name": "python",
   "nbconvert_exporter": "python",
   "pygments_lexer": "ipython3",
   "version": "3.11.4"
  }
 },
 "nbformat": 4,
 "nbformat_minor": 5
}
