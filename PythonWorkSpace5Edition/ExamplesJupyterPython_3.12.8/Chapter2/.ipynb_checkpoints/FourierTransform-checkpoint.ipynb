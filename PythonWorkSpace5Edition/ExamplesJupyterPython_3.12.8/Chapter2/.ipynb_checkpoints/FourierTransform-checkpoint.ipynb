{
 "cells": [
  {
   "cell_type": "markdown",
   "id": "2eb539e0",
   "metadata": {},
   "source": [
    "# Feature Extraction and Image Processing\n",
    "Mark S. Nixon & Alberto S. Aguado http://www.southampton.ac.uk/~msn/book/\n",
    "### Chapter 2: *FourierTransform*\n",
    "Compute the Fourier transform of an image and display power and phase\n",
    "***  "
   ]
  },
  {
   "cell_type": "markdown",
   "id": "64cdb2ed",
   "metadata": {},
   "source": [
    "### Setup modules"
   ]
  },
  {
   "cell_type": "code",
   "execution_count": 1,
   "id": "3e8ec376",
   "metadata": {},
   "outputs": [],
   "source": [
    "import os\n",
    "import sys\n",
    "sys.path.append(os.path.join(os.path.dirname(\"__file__\"), \"../../Modules\"))\n",
    "\n",
    "from ImageUtilities import imageReadL, plotImageL, createImageF, plotImageF\n",
    "from ImageOperatorsUtilities import imageLogF\n",
    "from PrintUtilities import printProgress\n",
    "\n",
    "# Math and iteration functions\n",
    "from math import sin, cos, pi, sqrt, atan2\n",
    "from timeit import itertools"
   ]
  },
  {
   "cell_type": "markdown",
   "id": "a2c330f4",
   "metadata": {},
   "source": [
    "### Read and show input image"
   ]
  },
  {
   "cell_type": "code",
   "execution_count": 2,
   "id": "0b8b8c4a",
   "metadata": {
    "scrolled": false
   },
   "outputs": [
    {
     "data": {
      "image/png": "[encoded data removed]",
      "text/plain": [
       "<Figure size 300x300 with 1 Axes>"
      ]
     },
     "metadata": {},
     "output_type": "display_data"
    }
   ],
   "source": [
    "imageName = \"Square.png\"\n",
    "pathToDir = os.path.join(os.path.dirname(\"__file__\"), \"../../Images/Chapter2/Input/\")\n",
    "inputImage, width, height  = imageReadL(pathToDir + imageName)\n",
    "plotImageL(inputImage, figureSize = 3)"
   ]
  },
  {
   "cell_type": "markdown",
   "id": "25117530",
   "metadata": {},
   "source": [
    "### Create an image to store ferquency coefficients <br> Two floats to represent a complex number"
   ]
  },
  {
   "cell_type": "code",
   "execution_count": 8,
   "id": "0f8a15a4",
   "metadata": {},
   "outputs": [],
   "source": [
    "maxFrequencyW = int(width /2)\n",
    "maxFrequencyH = int(height/2)\n",
    "numCoefficientsW = 1 + 2 * maxFrequencyW\n",
    "numCoefficientsH = 1 + 2 * maxFrequencyH\n",
    "coefficients = createImageF(numCoefficientsW ,numCoefficientsH , 2)"
   ]
  },
  {
   "cell_type": "markdown",
   "id": "642b878a",
   "metadata": {},
   "source": [
    "### Compute Fourier Coefficients"
   ]
  },
  {
   "cell_type": "code",
   "execution_count": 4,
   "id": "489d4785",
   "metadata": {},
   "outputs": [
    {
     "name": "stdout",
     "output_type": "stream",
     "text": [
      "0 / 13  .. 1 / 13  .. 2 / 13  .. 3 / 13  .. 4 / 13  .. 5 / 13  .. 6 / 13  .. 7 / 13  .. 8 / 13  .. 9 / 13  .. 10 / 13  .. 11 / 13  .. 12 / 13  .. 0 / 13  .. 1 / 13  .. 2 / 13  .. 3 / 13  .. 4 / 13  .. 5 / 13  .. 6 / 13  .. 7 / 13  .. 8 / 13  .. 9 / 13  .. 10 / 13  .. 11 / 13  .. 12 / 13  .. "
     ]
    }
   ],
   "source": [
    "# Adjust the size of the data to be even\n",
    "m = float(width)\n",
    "n = float(height)\n",
    "if width % 2 == 0:\n",
    "    m = width + 1.0\n",
    "if height % 2 == 0:\n",
    "    n = height + 1.0  \n",
    "    \n",
    "# Fundamental frequency\n",
    "ww = (2.0 * pi) / m\n",
    "wh = (2.0 * pi) / n\n",
    "\n",
    "# Compute coefficients\n",
    "for kw in range(-maxFrequencyW, maxFrequencyW + 1):\n",
    "    printProgress(kw + maxFrequencyW, numCoefficientsW)\n",
    "    indexInArrayW = kw + maxFrequencyW \n",
    "    for kh in range(-maxFrequencyH, maxFrequencyH + 1):\n",
    "        indexInArrayH = kh + maxFrequencyH \n",
    "        for x,y in itertools.product(range(0, width), range(0, height)):\n",
    "            coefficients[indexInArrayH, indexInArrayW][0] +=  inputImage[y,x] *          \\\n",
    "                 (cos(x * ww * kw) * cos(y * wh * kh) -  sin(x * ww * kw) * sin(y * wh * kh))                 \n",
    "            coefficients[indexInArrayH, indexInArrayW][1] +=  inputImage[y,x] *           \\\n",
    "                 (cos(x * ww * kw) * sin(y * wh * kh) +  sin(x * ww * kw) * cos(y * wh * kh)) \n",
    "            \n",
    "for kw in range(-maxFrequencyW, maxFrequencyW + 1):\n",
    "    printProgress(kw + maxFrequencyW, numCoefficientsW)\n",
    "    indexInArrayW = kw + maxFrequencyW \n",
    "    for kh in range(-maxFrequencyH, maxFrequencyH + 1):\n",
    "        indexInArrayH = kh + maxFrequencyH \n",
    "        coefficients[indexInArrayH, indexInArrayW][0] *= m*n \n",
    "        coefficients[indexInArrayH, indexInArrayW][1] *= m*n\n"
   ]
  },
  {
   "cell_type": "markdown",
   "id": "5f171ca6",
   "metadata": {},
   "source": [
    "### Compute power"
   ]
  },
  {
   "cell_type": "code",
   "execution_count": 5,
   "id": "128af976",
   "metadata": {},
   "outputs": [],
   "source": [
    "power = createImageF( 1 + 2 * maxFrequencyW, 1 + 2 * maxFrequencyH)\n",
    "for kw,kh in itertools.product(range(-maxFrequencyW, maxFrequencyW + 1),                  \\\n",
    "                               range(-maxFrequencyH, maxFrequencyH + 1)):                  \n",
    "    indexInArrayW = kw + maxFrequencyW \n",
    "    indexInArrayH = kh + maxFrequencyH \n",
    "    power[indexInArrayH, indexInArrayW] =                                                 \\\n",
    "            sqrt(coefficients[indexInArrayH, indexInArrayW][0] *                          \\\n",
    "                 coefficients[indexInArrayH, indexInArrayW][0] +                          \\\n",
    "                 coefficients[indexInArrayH, indexInArrayW][1] *                          \\\n",
    "                 coefficients[indexInArrayH, indexInArrayW][1])\n"
   ]
  },
  {
   "cell_type": "markdown",
   "id": "92e22e9a",
   "metadata": {},
   "source": [
    "### Copute phase"
   ]
  },
  {
   "cell_type": "code",
   "execution_count": 6,
   "id": "eb6d35ab",
   "metadata": {},
   "outputs": [],
   "source": [
    "phase = createImageF( 1 + 2 * maxFrequencyW, 1 + 2 * maxFrequencyH)\n",
    "for kw,kh in itertools.product(range(-maxFrequencyW, maxFrequencyW + 1),                  \\\n",
    "                               range(-maxFrequencyH, maxFrequencyH + 1)):\n",
    "    indexInArrayW = kw + maxFrequencyW \n",
    "    indexInArrayH = kh + maxFrequencyH \n",
    "    phase[indexInArrayH, indexInArrayW] =                                                 \\\n",
    "                    atan2(coefficients[indexInArrayH, indexInArrayW][1],                  \\\n",
    "                          coefficients[indexInArrayH, indexInArrayW][0])\n"
   ]
  },
  {
   "cell_type": "markdown",
   "id": "1a6d39c2",
   "metadata": {},
   "source": [
    "### Show the log of the power and phase"
   ]
  },
  {
   "cell_type": "code",
   "execution_count": 7,
   "id": "5d477d93",
   "metadata": {},
   "outputs": [
    {
     "data": {
      "image/png": "[encoded data removed]",
      "text/plain": [
       "<Figure size 300x300 with 1 Axes>"
      ]
     },
     "metadata": {},
     "output_type": "display_data"
    },
    {
     "data": {
      "image/png": "[encoded data removed]",
      "text/plain": [
       "<Figure size 300x300 with 1 Axes>"
      ]
     },
     "metadata": {},
     "output_type": "display_data"
    }
   ],
   "source": [
    "powerLog = imageLogF(power)\n",
    "plotImageF(powerLog, figureSize = 3)\n",
    "plotImageF(phase, figureSize = 3)"
   ]
  }
 ],
 "metadata": {
  "kernelspec": {
   "display_name": "Python 3 (ipykernel)",
   "language": "python",
   "name": "python3"
  },
  "language_info": {
   "codemirror_mode": {
    "name": "ipython",
    "version": 3
   },
   "file_extension": ".py",
   "mimetype": "text/x-python",
   "name": "python",
   "nbconvert_exporter": "python",
   "pygments_lexer": "ipython3",
   "version": "3.11.4"
  }
 },
 "nbformat": 4,
 "nbformat_minor": 5
}
