{
 "cells": [
  {
   "cell_type": "markdown",
   "id": "2eb539e0",
   "metadata": {},
   "source": [
    "# Feature Extraction and Image Processing\n",
    "Mark S. Nixon & Alberto S. Aguado http://www.southampton.ac.uk/~msn/book/\n",
    "### Chapter 5: *CurveatureDetection*\n",
    "Obtain curvature by computing angle differences\n",
    "***  "
   ]
  },
  {
   "cell_type": "markdown",
   "id": "64cdb2ed",
   "metadata": {},
   "source": [
    "### Setup modules"
   ]
  },
  {
   "cell_type": "code",
   "execution_count": 1,
   "id": "3e8ec376",
   "metadata": {},
   "outputs": [],
   "source": [
    "import os\n",
    "import sys\n",
    "sys.path.append(os.path.join(os.path.dirname(\"__file__\"), \"../../Modules\"))\n",
    "\n",
    "# Module functions\n",
    "from ImageUtilities import imageReadL, createImageF, plotImageL, plotImageF \n",
    "from ImageOperatorsUtilities import applyCannyEdgeDetector\n",
    "\n",
    "# Math and iteration\n",
    "from math import cos, sin\n",
    "from timeit import itertools"
   ]
  },
  {
   "cell_type": "markdown",
   "id": "4489d1e9",
   "metadata": {},
   "source": [
    "### Parameters:\n",
    "    imageName = Input image name\n",
    "    GaussianKernelSize = Gaussian kernel size. Filter noise\n",
    "    sobelKernelSize = Sobel kernel size. Edge detection\n",
    "    upperT = Upper threshold\n",
    "    lowerT = Lower threshold\n",
    "    windowDelta = Size of the region used to find neighbors"
   ]
  },
  {
   "cell_type": "code",
   "execution_count": 2,
   "id": "b85bf4f2",
   "metadata": {},
   "outputs": [],
   "source": [
    "imageName = \"Shapes.png\"\n",
    "GaussianKernelSize = 7\n",
    "sobelKernelSize = 3\n",
    "upperT = 0.4\n",
    "lowerT = 0.2\n",
    "windowDelta = 2"
   ]
  },
  {
   "cell_type": "markdown",
   "id": "a2c330f4",
   "metadata": {},
   "source": [
    "### Read and show image"
   ]
  },
  {
   "cell_type": "code",
   "execution_count": 3,
   "id": "0b8b8c4a",
   "metadata": {
    "scrolled": true
   },
   "outputs": [
    {
     "data": {
      "image/png": "[encoded data removed]",
      "text/plain": [
       "<Figure size 400x400 with 1 Axes>"
      ]
     },
     "metadata": {},
     "output_type": "display_data"
    }
   ],
   "source": [
    "pathToDir = os.path.join(os.path.dirname(\"__file__\"), \"../../Images/Chapter5/Input/\")\n",
    "inputImage, width, height = imageReadL(pathToDir + imageName)\n",
    "plotImageL(inputImage, figureSize = 4)"
   ]
  },
  {
   "cell_type": "markdown",
   "id": "a142480e",
   "metadata": {},
   "source": [
    "### Compute edges and show result"
   ]
  },
  {
   "cell_type": "code",
   "execution_count": 4,
   "id": "49ef69df",
   "metadata": {},
   "outputs": [
    {
     "data": {
      "image/png": "[encoded data removed]",
      "text/plain": [
       "<Figure size 400x400 with 1 Axes>"
      ]
     },
     "metadata": {},
     "output_type": "display_data"
    }
   ],
   "source": [
    "magnitude, angle = applyCannyEdgeDetector(inputImage, GaussianKernelSize, sobelKernelSize, upperT, lowerT)\n",
    "plotImageF(magnitude, figureSize = 4)"
   ]
  },
  {
   "cell_type": "markdown",
   "id": "f5d66845-b18b-4a7f-8430-d0a807e4d724",
   "metadata": {},
   "source": [
    "### Compute curvature by subtracting the direction of neighbors"
   ]
  },
  {
   "cell_type": "code",
   "execution_count": 5,
   "id": "72ff0a47-8e8f-4c89-8f1a-7fecbd9e43f7",
   "metadata": {},
   "outputs": [],
   "source": [
    "curvature = createImageF(width, height)\n",
    "for x,y in itertools.product(range(0, width), range(0, height)):\n",
    "    # Edge\n",
    "    if magnitude[y,x] > 0:  \n",
    "        # Consider neighbor edges\n",
    "        edgesNeigbor = [ ]\n",
    "        for wx,wy in itertools.product(range(-windowDelta, windowDelta+1),       \\\n",
    "                                       range(-windowDelta, windowDelta+1)):\n",
    "            if magnitude[y+wy, x+wx] > 0 : \n",
    "                edgesNeigbor.append((y+wy,x+wx))\n",
    "               \n",
    "        # Use dot product to measure angle difference\n",
    "        np = len(edgesNeigbor)     \n",
    "        for p in range(0, np):\n",
    "            y1 = (edgesNeigbor[p])[0]\n",
    "            x1 = (edgesNeigbor[p])[1]\n",
    "            curvature[y,x] += 1.0-(cos(angle[y1,x1]) * cos(angle[y,x])         \\\n",
    "                                 + sin(angle[y1,x1]) * sin(angle[y,x]))\n",
    "        if np > 0:\n",
    "            curvature[y,x] /= np "
   ]
  },
  {
   "cell_type": "markdown",
   "id": "2b12a063-e017-4eb1-8e80-34918bfefa6c",
   "metadata": {},
   "source": [
    "### Show result"
   ]
  },
  {
   "cell_type": "code",
   "execution_count": 6,
   "id": "d56d1486-78a2-421e-9356-6093fceb9fc6",
   "metadata": {},
   "outputs": [
    {
     "data": {
      "image/png": "[encoded data removed]",
      "text/plain": [
       "<Figure size 400x400 with 1 Axes>"
      ]
     },
     "metadata": {},
     "output_type": "display_data"
    }
   ],
   "source": [
    "plotImageF(curvature, figureSize = 4)"
   ]
  }
 ],
 "metadata": {
  "kernelspec": {
   "display_name": "Python 3 (ipykernel)",
   "language": "python",
   "name": "python3"
  },
  "language_info": {
   "codemirror_mode": {
    "name": "ipython",
    "version": 3
   },
   "file_extension": ".py",
   "mimetype": "text/x-python",
   "name": "python",
   "nbconvert_exporter": "python",
   "pygments_lexer": "ipython3",
   "version": "3.11.9"
  }
 },
 "nbformat": 4,
 "nbformat_minor": 5
}
